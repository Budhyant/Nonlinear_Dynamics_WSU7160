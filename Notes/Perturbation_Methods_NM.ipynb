{
 "cells": [
  {
   "cell_type": "markdown",
   "metadata": {},
   "source": [
    "# Purturbation methods\n",
    "\n",
    "## Section 2.3: Nayfeh and Mook, *Nonlinear Oscillations*, 1979\\cite{Nayfeh1995}\n",
    "\n",
    "\n",
    "Consider the governing equation\n",
    "$$\\ddot{u}+f(u)=0$$\n",
    "\n",
    "where we conveniently shift the origin to the center $u_0$ with $x+u_0=u$ to that\n",
    "$$\\ddot{x}+f(x+u_0)=0$$\n",
    "\n",
    "Assuming that $f$ can be expanded as a polynomial\n",
    "\n",
    "$$\\ddot{x}+\\sum_{n=1}^{\\infty}\\alpha_n x^n=0$$\n",
    "where\n",
    "$$\\alpha_n = \\frac{1}{n!}f^{(n)}(u_0)$$\n",
    "where $f^{(n)}(u_0)$ represents the $n$th derivative with respect to the argument.\n",
    "\n",
    "We need to specify the initial conditions, displacement and velocity, $s_0$ and $v_0$. In polar form we write them as an initial amplitude and phase ($a_0$ and $\\beta_0$)\n",
    "\n",
    "$$s_0 = a_0\\cos(\\beta_0),\\,v_0=-a_0\\omega_0\\sin(\\beta_0)$$\n",
    "\n",
    "where\n",
    "\n",
    "$$\\omega_0 = \\sqrt{\\alpha_1} = \\sqrt{f'(u_0)}$$\n",
    "\n",
    "and\n",
    "$$a_0 = \\left(s_0^2+\\left(\\frac{v_0}{\\omega_0}\\right)^2\\right)^{1/2},\\,\\beta_0 = \\cos^{-1}\\left(\\frac{s_0}{a_0}\\right)= \\sin^{-1}\\left(-\\frac{v_0}{a_0\\omega_0}\\right)$$\n",
    "\n",
    "\n",
    "- If we neglected the 0 subscripts and all nonlinear terms, we would have the solution to \n",
    "$$\\ddot{x}+\\alpha_1 x = 0,\\,\\text{or}\\,\\ddot{x}+\\omega^2 x = 0$$\n",
    "of\n",
    "$$x(t) = a\\cos(\\omega t +\\beta)$$\n",
    "- Note that what we have done is allowed amplitude, phase, and frequency to change over time. \n",
    "- We are writing them as having initial conditions themselves, just like the displacement and velocity."
   ]
  },
  {
   "cell_type": "markdown",
   "metadata": {},
   "source": [
    "### The straight forward expansion\n",
    "\n",
    "Assume a solution has the form\n",
    "\n",
    "$$x(t;\\epsilon) = \\epsilon x_1(t)+ \\epsilon^2 x_2(t)+\\epsilon^3 x_3(t)+\\cdots$$\n",
    "Substituting into \n",
    "$$\\ddot{x}+\\sum_{n=1}^{\\infty}\\alpha_n x^n=0$$\n",
    "\n",
    "and recognizing that the $x_n(t)$ are independent of $\\epsilon$, we can set the coefficients to each power of $\\epsilon$ to zero giving\n",
    "\n",
    "*Order $\\epsilon$*\n",
    "$$\\ddot{x}_1+\\omega_0^2 x_1 = 0$$\n",
    "\n",
    "*Order $\\epsilon^2$*\n",
    "$$\\ddot{x}_2+\\omega_0^2 x_2 = -\\alpha_2 x_1^2$$\n",
    "\n",
    "*Order $\\epsilon^3$*\n",
    "$$\\ddot{x}_3+\\omega_0^2 x_3 = -2\\alpha_2 x_1 x_2-\\alpha_3 x_1^3$$\n",
    "\n",
    "\n",
    "To satisfy the initial conditions, we have the following options:\n",
    "\n",
    "1.  One can substitute the assumed form $x(t;\\epsilon) = \\epsilon x_1(t)+ \\epsilon^2 x_2(t)+\\cdots$ into the initial displacement and velocity statements and equate like power of $\\epsilon$ terms yielding\n",
    "\n",
    "    $x_1(0) = a_0 \\cos\\beta_0$ and $\\dot{x}_1(0)=-\\omega_0 a_0\\sin\\beta_0$\n",
    "    and\n",
    "    $x_n(0) = 0$ and $\\dot{x}_n(0)=0$ for $n\\ge 2$\n",
    "\n",
    "    Then one finds the constants in $x_1$, then includes these in the solutions for $x_n$ choosing constants of integration for the homogeneous solutions of the later equations such that the initial conditions for $x_n$ and $\\dot{x}_n$ are satisfied.\n",
    "    \n",
    "2. Ignore the initial conditions and homogeneous solutions until the last step. Then consider the constants of integration in $x_1$ to be functions of $\\epsilon$, expand the solution for $x_1$ in powers of $\\epsilon$ and choose coefficients such that the initial condition is satisfied. \n",
    "\n",
    "This method \"partially\" works, but per Nayfeh and Mook, it indeed will break down, so we will skip that derivation. "
   ]
  },
  {
   "cell_type": "markdown",
   "metadata": {},
   "source": [
    "### The Method of Multiple Scales\n",
    "We start by introducing new independent *time-related* variables, $T_n$ defined by \n",
    "\n",
    "$$T_n = \\epsilon^n t,\\,\\text{for}\\, n = 0, 1, 2, \\cdots$$\n",
    "\n",
    "Derivatives with respect to $t$ then become\n",
    "\n",
    "$$\\frac{d}{dt} = \\frac{dT_0}{dt}\\frac{\\partial}{\\partial T_0}+\\frac{dT_1}{dt}\\frac{\\partial}{\\partial T_1}+\\cdots = D_0+\\epsilon D_1+\\cdots$$\n",
    "\n",
    "where we note that \n",
    "\n",
    "$$\\frac{dT_n}{dt}=\\epsilon^n$$\n",
    "and define\n",
    "\n",
    "$$D_n = \\frac{\\partial}{\\partial T_n}$$\n",
    "\n",
    "Note that we can further derive that\n",
    "\n",
    "$$\\frac{d^2}{dt^2} = D_0^2+2\\epsilon D_0 D_1+\\epsilon^2(D_1^2+2D_0D_2)+\\cdots$$\n",
    "\n",
    "We assume a solution can be represented having the form\n",
    "\n",
    "$$x(t;\\epsilon) = \\epsilon x_1(T_0, T_1, T_2, \\cdots)+\\epsilon^2 x_2(T_0, T_1, T_2, \\cdots)+\\epsilon^3 x_3(T_0, T_1, T_2, \\cdots)+\\cdots$$\n",
    "\n",
    "The number of time scales needed is equal to the order to which the expansion is carried out. Here we will carry out expansions to $O(\\epsilon^3)$, thus will need $T_0, T_1$ and  $T_2$.\n",
    "\n",
    "Substituting into our governing equation and equating like coefficients in $\\epsilon$ we get\n",
    "\n",
    "*Order $\\epsilon$*\n",
    "$$D_0^2{x}_1+\\omega_0^2 x_1 = 0$$\n",
    "\n",
    "*Order $\\epsilon^2$*\n",
    "$$D_0^2{x}_2+\\omega_0^2 x_2 = -2D_0D_1x_1-\\alpha_2 x_1^2$$\n",
    "\n",
    "*Order $\\epsilon^3$*\n",
    "$$D_0^2{x}_3+\\omega_0^2 x_3 = -2D_0D_1x_2-D_1^2x_1-2D_0D_2x_1-2\\alpha_2 x_1 x_2-\\alpha_3 x_1^3$$\n",
    "\n",
    "With this approach, it's easier to work with solutions in the form of exponentials, so\n",
    "\n",
    "$$x_1 = A(T_1,T_2)e^{i \\omega_0 T_0}+\\bar{A}e^{-i \\omega_0 T_0}$$\n",
    "where $A$ is an unknown complex constant and $\\bar{A}$ is its complex conjugate.\n",
    "\n",
    "The governing equations for $A$ are obtained by requiring that $x_2$ and $x_3$ be periodic in $T_0$. \n",
    "\n",
    "Substituting $x_1$ into the second equation gives\n",
    "\n",
    "$$\n",
    "D_0^2 x_2+\\omega_0^2 x_2 = -2 i \\omega_0 D_1 A e^{i \\omega_0 T_0} -\\alpha_2 \\left(A^2e^{2i \\omega_0 T_0}+A\\bar{A}\\right)+cc\n",
    "$$\n",
    "where $cc$ denotes complex conjugate of the preceding terms."
   ]
  },
  {
   "cell_type": "markdown",
   "metadata": {
    "collapsed": true
   },
   "source": [
    "Now, consider the expected result of this solution. In the end, we are expecting to have a repeating nearly sinusoidal response that neither expands or contracts in amplitude as $t\\to\\infty$. If we observe the first forcing term in this equation, it simplifies to\n",
    "\\begin{split}\n",
    "-2 i \\omega_0 D_1 A e^{i \\omega_0 T_0} &= -2 i \\omega_0 (D_1 A) e^{i \\omega_0 T_0}+-2 i \\omega_0  A D_1\\left( e^{i \\omega_0 T_0}\\right) \\\\&= -2 i \\omega_0 (D_1 A) e^{i \\omega_0 T_0}+-2 i \\omega_0  A (0)\\\\&= -2 i \\omega_0 (D_1 A) e^{i \\omega_0 T_0}\n",
    "\\end{split}\n",
    "The problem that we face with this term is that this is a resonant term. if $D_1A\\neq 0$, then the particular solution for $x_2$ will contain a term with $T_0 e^{i \\omega_0 T_0}$ (called a *secular* term), and thus $x_2\\to\\infty$. This is doesn't make sense. So, from this logic, we determine that $D_1A= 0$, meaning $A$ is not a function of $T_1$. "
   ]
  },
  {
   "cell_type": "markdown",
   "metadata": {},
   "source": [
    "with this, we note that the solution to the second term, $-\\alpha_2 A^2e^{2i \\omega_0 T_0}$ is\n",
    "$$ \\frac{1}{\\omega_0^2-(2\\omega_0)^2}   -\\alpha_2 A^2e^{2i \\omega_0 T_0} = \\frac{\\alpha_2 A^2}{3\\omega_0^2}e^{2i \\omega_0 T_0}$$\n",
    "while the solution to the third term, $-\\alpha_2 A\\bar{A}$ is simply \n",
    "$$-\\frac{\\alpha_2 A\\bar{A}}{\\omega_0^2}$$\n",
    "yielding a total solution of \n",
    "\n",
    "$$x_2 = \\frac{\\alpha_2 A^2}{3\\omega_0^2}e^{2i \\omega_0 T_0}-\\frac{\\alpha_2 A\\bar{A}}{\\omega_0^2}+cc$$\n",
    "\n",
    "where the solution of the homogeneous solution is not needed per prior discussions, and $cc$ means \"plus complex conjugates of prior terms\" and is meant to shorten the analysis. "
   ]
  },
  {
   "cell_type": "markdown",
   "metadata": {},
   "source": [
    "Recall that \n",
    "$$x_1 = A(T_2)e^{i \\omega_0 T_0}+\\bar{A}(T_2)e^{-i \\omega_0 T_0}$$\n",
    "Substituting for $x_1$ and $x_2$ in the order $\\epsilon^3$ equation, and noting that $D_1A=0$, gives\n",
    "\n",
    "\n"
   ]
  },
  {
   "cell_type": "markdown",
   "metadata": {},
   "source": [
    "\\begin{split}\n",
    "D_0^2{x}_3+\\omega_0^2 x_3 = &-2D_0D_1x_2-D_1^2x_1-2D_0D_2x_1-2\\alpha_2 x_1 x_2-\\alpha_3 x_1^3\\\\\n",
    "= &-2D_0D_1\\left(\\frac{\\alpha_2 A^2}{3\\omega_0^2}e^{2i \\omega_0 T_0}-\\frac{\\alpha_2 A\\bar{A}}{\\omega_0^2}\\right)\\to 0\\\\\n",
    "&-D_1^2A(T_2)e^{i \\omega_0 T_0}\\to 0\\\\\n",
    "&-2D_0D_2A(T_2)e^{i \\omega_0 T_0}\\to -2i \\omega_0 D_2A(T_2)e^{i \\omega_0 T_0}\\\\\n",
    "&-2\\alpha_2 \\left(A(T_2)e^{i \\omega_0 T_0}+\\bar{A}(T_2)e^{-i \\omega_0 T_0}\\right) \\left(\\frac{\\alpha_2 A^2}{3\\omega_0^2}e^{2i \\omega_0 T_0}-2\\frac{\\alpha_2 A\\bar{A}}{\\omega_0^2}+\\frac{\\alpha_2 \\bar{A}^2}{3\\omega_0^2}e^{-2i \\omega_0 T_0}\\right)\\\\\n",
    "&-\\alpha_3 \\left(A(T_2)e^{i \\omega_0 T_0}+\\bar{A}(T_2)e^{-i \\omega_0 T_0}\\right)^3\n",
    "\\end{split}\n",
    "which simplifies to\n",
    "\\begin{split}\n",
    "D_0^2{x}_3+\\omega_0^2 x_3 = &-\\left(2i\\omega_0 D_2A-\\frac{10\\alpha_2^2-9\\alpha_3\\omega_0^2}{3\\omega_0^2}A^2\\bar{A}  \\right)e^{i \\omega_0 T_0}\\\\\n",
    "&-\\frac{3\\alpha_3\\omega_0^2+2\\alpha_2^2}{3\\omega_0^2}A^3e^{3i \\omega_0 T_0}+cc\n",
    "\\end{split}\n",
    "Just as before, we cannot have secular terms in the solution, so\n",
    "$$2i\\omega_0 D_2A-\\frac{10\\alpha_2^2-9\\alpha_3\\omega_0^2}{3\\omega_0^2}A^2\\bar{A} = 0$$\n",
    "\n",
    "Now, this is a complex nonlinear differential equation in $A$. Let's presume a solution of the form\n",
    "$$A = \\frac{1}{2} a e^{i\\beta}$$\n",
    "where $a$ and $\\beta$ are real functions of $T_2$. Note that the complex nature makes this work. After substituting, we obtain\n",
    "$$i\\omega_0 (a'e^{i\\beta}+ a i \\beta'e^{i\\beta}) - \\frac{10\\alpha_2^2-9\\alpha_3\\omega_0^2}{3\\omega_0^2}\\frac{1}{8}a^3 e^{i\\beta}=0$$\n",
    "\n",
    "Writing equations for the real and  imaginary parts we obtain\n",
    "$$\\omega_0 a'= 0$$\n",
    "and\n",
    "$$\\omega_0 a \\beta'+ \\frac{10\\alpha_2^2-9\\alpha_3\\omega_0^2}{24\\omega_0^2}a^3= 0$$\n",
    "\n",
    "$a$ is clearly a constant, so the equation in $\\beta$ is a simple first order linear differential equation resulting in a solution of \n",
    "\n",
    "$$\\beta = \\frac{10\\alpha_2^2-9\\alpha_3\\omega_0^2}{24\\omega_0^3}a^2T_2+\\beta_0$$"
   ]
  },
  {
   "cell_type": "markdown",
   "metadata": {},
   "source": [
    "Recall that $A = \\frac{1}{2}ae^{i\\beta}$, so \n",
    "$$A = \\frac{1}{2}ae^{i\\left(\\frac{10\\alpha_2^2-9\\alpha_3\\omega_0^2}{24\\omega_0^3}a^2\\epsilon^2 t+\\beta_0\\right)}$$\n",
    "where we have used the fact that $T_2=\\epsilon^2 t$\n",
    "\n",
    "Recalling that\n",
    "$$x_1 = A(T_1,T_2)e^{i \\omega_0 T_0}+\\bar{A}e^{-i \\omega_0 T_0}$$\n",
    "and substituting for $x_1$, $x_2$, and the solution for $A$ yields\n",
    "$$x(t) = \\epsilon a \\cos(\\omega t + \\beta_0)+ -\\frac{\\epsilon^2a^2\\alpha_2}{2\\alpha_1}\\left(1-\\frac{1}{3}\\cos(2\\omega t+2\\beta_0)\\right)+O(\\epsilon^3)\n",
    "$$\n",
    "where\n",
    "\n",
    "\\begin{split}\\omega &= \\sqrt{\\alpha_1}\\left(1+\\frac{9\\alpha_3\\alpha_1-10\\alpha_2^2}{24\\alpha_1^2}\\epsilon^2 a^2\\right)+O(\\epsilon^3)\\\\\n",
    "&= \\omega_0\\left(1+\\frac{9\\alpha_3\\alpha_1-10\\alpha_2^2}{24\\alpha_1^2}\\epsilon^2 a^2\\right)+O(\\epsilon^3)\\end{split}"
   ]
  },
  {
   "cell_type": "markdown",
   "metadata": {
    "collapsed": true
   },
   "source": [
    "### The Method of Harmonic Balance\n",
    "Here we attempt to express the solution as a Fourier series\n",
    "$$x = \\sum_{m=0}^M A_m\\cos(m\\omega t+m\\beta_0)$$\n",
    "\n",
    "We substitute this into the governing equation and equate coefficients of the lowest $M+1$ harmonics to zero, then solve the algebraic equations. \n",
    "\n",
    "For example, substituting the one term expansion \n",
    "$$x = A_1\\cos(\\omega t + \\beta_0) = A_1\\cos \\phi$$\n",
    "yields \n",
    "$$-(\\omega^2-\\alpha_1)A_1\\cos\\phi+ \\frac{1}{2}\\alpha_2A_1^2(1+\\cos 2\\phi)+\\frac{1}{4}\\alpha_3 A_1^3(3\\cos\\phi+\\cos 3\\phi)=0$$\n",
    "if $N=3$. Equating coefficients of the $\\cos\\phi$ term\n",
    "$$\\omega^2=\\alpha_1+3/4\\alpha_3A_1^2$$\n",
    "For small $A_1$, this becomes\n",
    "$$\\omega = \\sqrt{\\alpha_1}\\left(1+\\frac{3}{8}\\alpha_3\\alpha_1^{-1}A_1^2\\right)$$\n",
    "Note that compared to the prior solution, the contribution of $\\alpha_2$ is missing. \n",
    "\n",
    "- The reason for thie failure is that the contribution of the $A_1^2$ terms of the algebraic expression are not reflected in the solution. \n",
    "- To accomodate this, we must include terms other than the primary harmonic. \n",
    "- The first term that we ignored in the Fourier series is actually the constant, $A_0$. \n",
    "\n",
    "Assuming \n",
    "$$x = A_0 +  A_1\\cos \\phi$$\n",
    "\n",
    "with $N=3$ gives\n",
    "\n",
    "\\begin{split}\n",
    "0 = &\\alpha_1 A_0+\\alpha_2A_0^2+\\frac{1}{2}\\alpha_2A_1^2+\\alpha_3A_0^3+\\frac{3}{2}\\alpha_3A_0A_1^2\\\\\n",
    "&+\\left(-\\left(\\omega^2-\\alpha_1\\right)A_1+2\\alpha_2A_0A_1+3\\alpha_3A_0^2A_1+\\frac{3}{4}\\alpha_3A_1^3\\right)\\cos\\phi\\\\\n",
    "&+\\left(\\frac{1}{2}\\alpha_2A_1^2+\\frac{3}{2}\\alpha_3A_0A_1^2\\right)\\cos 2\\phi\n",
    "+\\frac{1}{4}\\alpha_3A_1^3\\cos 3\\phi\n",
    "\\end{split}\n",
    "Equating constant terms to zero \n",
    "$$\\alpha_1 A_0+\\alpha_2A_0^2+\\frac{1}{2}\\alpha_2A_1^2+\\alpha_3A_0^3+\\frac{3}{2}\\alpha_3A_0A_1^2=0\n",
    "$$\n",
    "Equating coefficients to $\\cos \\phi$ to zero\n",
    "$$-\\left(\\omega^2-\\alpha_1\\right)A_1+2\\alpha_2A_0A_1+3\\alpha_3A_0^2A_1+\\frac{3}{4}\\alpha_3A_1^3=0$$\n",
    "\n",
    "This gives us two equations and three unknowns $\\omega$, $A_0$ and $A_1$ where we will typically write the unknowns in terms of the primary harmonic's amplitude, $A_1$. \n"
   ]
  },
  {
   "cell_type": "code",
   "execution_count": 1,
   "metadata": {
    "collapsed": true
   },
   "outputs": [],
   "source": [
    "from sympy import *\n",
    "from sympy import sqrt\n",
    "from sympy.matrices import *\n",
    "from sympy.abc import *\n",
    "init_printing()"
   ]
  },
  {
   "cell_type": "code",
   "execution_count": 2,
   "metadata": {
    "collapsed": true
   },
   "outputs": [],
   "source": [
    "omega, alpha_1, alpha_2, alpha_3, A_0, A_1, A_2, a, b, c, phi = symbols(\"omega alpha_1 alpha_2 alpha_3 A_0 A_1 A_2 a b c phi\", real = True)"
   ]
  },
  {
   "cell_type": "code",
   "execution_count": 3,
   "metadata": {
    "collapsed": false
   },
   "outputs": [
    {
     "data": {
      "image/png": "[encoded data removed]",
      "text/latex": [
       "$$A_{0}^{3} \\alpha_{3} + A_{0}^{2} \\alpha_{2} + \\frac{3 A_{0}}{2} A_{1}^{2} \\alpha_{3} + A_{0} \\alpha_{1} + \\frac{A_{1}^{2} \\alpha_{2}}{2}$$"
      ],
      "text/plain": [
       "                         2                2   \n",
       "  3        2      3⋅A₀⋅A₁ ⋅α₃           A₁ ⋅α₂\n",
       "A₀ ⋅α₃ + A₀ ⋅α₂ + ─────────── + A₀⋅α₁ + ──────\n",
       "                       2                  2   "
      ]
     },
     "execution_count": 3,
     "metadata": {},
     "output_type": "execute_result"
    }
   ],
   "source": [
    "eqn1 = alpha_1*A_0+alpha_2*A_0**2+alpha_2/2*A_1**2+alpha_3*A_0**3+3*alpha_3/2*A_0*A_1**2\n",
    "eqn1"
   ]
  },
  {
   "cell_type": "code",
   "execution_count": 4,
   "metadata": {
    "collapsed": false
   },
   "outputs": [
    {
     "data": {
      "image/png": "[encoded data removed]",
      "text/latex": [
       "$$\\frac{A_{1}^{2} \\alpha_{2}}{2} + \\frac{3 \\alpha_{3}}{2} A_{1}^{2} \\left(A_{1}^{2} c + A_{1} b + a\\right) + \\alpha_{1} \\left(A_{1}^{2} c + A_{1} b + a\\right) + \\alpha_{2} \\left(A_{1}^{2} c + A_{1} b + a\\right)^{2} + \\alpha_{3} \\left(A_{1}^{2} c + A_{1} b + a\\right)^{3}$$"
      ],
      "text/plain": [
       "  2          2    ⎛  2             ⎞                                          \n",
       "A₁ ⋅α₂   3⋅A₁ ⋅α₃⋅⎝A₁ ⋅c + A₁⋅b + a⎠      ⎛  2             ⎞      ⎛  2        \n",
       "────── + ─────────────────────────── + α₁⋅⎝A₁ ⋅c + A₁⋅b + a⎠ + α₂⋅⎝A₁ ⋅c + A₁⋅\n",
       "  2                   2                                                       \n",
       "\n",
       "      2                        3\n",
       "     ⎞       ⎛  2             ⎞ \n",
       "b + a⎠  + α₃⋅⎝A₁ ⋅c + A₁⋅b + a⎠ \n",
       "                                "
      ]
     },
     "execution_count": 4,
     "metadata": {},
     "output_type": "execute_result"
    }
   ],
   "source": [
    "eqn1_subs = eqn1.subs(A_0,a+b*A_1+c*A_1**2)\n",
    "eqn1_subs"
   ]
  },
  {
   "cell_type": "markdown",
   "metadata": {},
   "source": [
    "Considering the constant terms:"
   ]
  },
  {
   "cell_type": "code",
   "execution_count": 5,
   "metadata": {
    "collapsed": false
   },
   "outputs": [
    {
     "data": {
      "image/png": "[encoded data removed]",
      "text/latex": [
       "$$a^{3} \\alpha_{3} + a^{2} \\alpha_{2} + a \\alpha_{1}$$"
      ],
      "text/plain": [
       " 3       2          \n",
       "a ⋅α₃ + a ⋅α₂ + a⋅α₁"
      ]
     },
     "execution_count": 5,
     "metadata": {},
     "output_type": "execute_result"
    }
   ],
   "source": [
    "eqn1_subs.expand().subs({A_1:0})"
   ]
  },
  {
   "cell_type": "code",
   "execution_count": 6,
   "metadata": {
    "collapsed": false
   },
   "outputs": [
    {
     "data": {
      "image/png": "[encoded data removed]",
      "text/latex": [
       "$$0$$"
      ],
      "text/plain": [
       "0"
      ]
     },
     "execution_count": 6,
     "metadata": {},
     "output_type": "execute_result"
    }
   ],
   "source": [
    "a_ans = solve(eqn1_subs.expand().subs({A_1:0}),a)\n",
    "a_ans[0]"
   ]
  },
  {
   "cell_type": "markdown",
   "metadata": {},
   "source": [
    "Which tells us that $a=0$."
   ]
  },
  {
   "cell_type": "code",
   "execution_count": 7,
   "metadata": {
    "collapsed": false
   },
   "outputs": [
    {
     "data": {
      "image/png": "[encoded data removed]",
      "text/latex": [
       "$$0$$"
      ],
      "text/plain": [
       "0"
      ]
     },
     "execution_count": 7,
     "metadata": {},
     "output_type": "execute_result"
    }
   ],
   "source": [
    "b_ans = solve(eqn1_subs.expand().coeff(A_1).subs(a,a_ans[0]),b)\n",
    "b_ans[0]"
   ]
  },
  {
   "cell_type": "markdown",
   "metadata": {},
   "source": [
    "which tells us $b=0$"
   ]
  },
  {
   "cell_type": "code",
   "execution_count": 8,
   "metadata": {
    "collapsed": false
   },
   "outputs": [
    {
     "data": {
      "image/png": "[encoded data removed]",
      "text/latex": [
       "$$\\left [ - \\frac{\\alpha_{2}}{2 \\alpha_{1}}\\right ]$$"
      ],
      "text/plain": [
       "⎡-α₂ ⎤\n",
       "⎢────⎥\n",
       "⎣2⋅α₁⎦"
      ]
     },
     "execution_count": 8,
     "metadata": {},
     "output_type": "execute_result"
    }
   ],
   "source": [
    "c_ans = solve(eqn1_subs.expand().coeff(A_1**2).subs({a:a_ans[0],b:b_ans[0]}),c)\n",
    "c_ans"
   ]
  },
  {
   "cell_type": "markdown",
   "metadata": {},
   "source": [
    "Which tells us that $c=\\frac{\\alpha_2}{2\\alpha_1}$ so $A_0 = \\frac{\\alpha_2}{2\\alpha_1}A_1^2$"
   ]
  },
  {
   "cell_type": "markdown",
   "metadata": {},
   "source": [
    "So we can substitute for $A_0$ and determing $\\omega$ to be\n",
    "$$\\omega = \\sqrt{\\alpha_1}\\left(1+\\frac{3\\alpha_3\\alpha_1-4\\alpha_2^2}{8\\alpha_1^2}A_1^2\\right)$$\n",
    "\n",
    "This doesn't match our previous answer (from Method of Multiple Scales). Perhaps we need yet another term \n",
    "\n",
    "$$x = A_0 +  A_1\\cos \\phi+A_2\\cos\\ 2\\phi$$"
   ]
  },
  {
   "cell_type": "code",
   "execution_count": 9,
   "metadata": {
    "collapsed": false,
    "scrolled": false
   },
   "outputs": [
    {
     "data": {
      "image/png": "[encoded data removed]",
      "text/latex": [
       "$$A_{0}^{3} \\alpha_{3} + 3 A_{0}^{2} A_{1} \\alpha_{3} \\cos{\\left (\\phi \\right )} + 3 A_{0}^{2} A_{2} \\alpha_{3} \\cos{\\left (2 \\phi \\right )} + A_{0}^{2} \\alpha_{2} + 3 A_{0} A_{1}^{2} \\alpha_{3} \\cos^{2}{\\left (\\phi \\right )} + 6 A_{0} A_{1} A_{2} \\alpha_{3} \\cos{\\left (\\phi \\right )} \\cos{\\left (2 \\phi \\right )} + 2 A_{0} A_{1} \\alpha_{2} \\cos{\\left (\\phi \\right )} + 3 A_{0} A_{2}^{2} \\alpha_{3} \\cos^{2}{\\left (2 \\phi \\right )} + 2 A_{0} A_{2} \\alpha_{2} \\cos{\\left (2 \\phi \\right )} + A_{0} \\alpha_{1} + A_{1}^{3} \\alpha_{3} \\cos^{3}{\\left (\\phi \\right )} + 3 A_{1}^{2} A_{2} \\alpha_{3} \\cos^{2}{\\left (\\phi \\right )} \\cos{\\left (2 \\phi \\right )} + A_{1}^{2} \\alpha_{2} \\cos^{2}{\\left (\\phi \\right )} + 3 A_{1} A_{2}^{2} \\alpha_{3} \\cos{\\left (\\phi \\right )} \\cos^{2}{\\left (2 \\phi \\right )} + 2 A_{1} A_{2} \\alpha_{2} \\cos{\\left (\\phi \\right )} \\cos{\\left (2 \\phi \\right )} + A_{1} \\alpha_{1} \\cos{\\left (\\phi \\right )} - A_{1} \\omega^{2} \\cos{\\left (\\phi \\right )} + A_{2}^{3} \\alpha_{3} \\cos^{3}{\\left (2 \\phi \\right )} + A_{2}^{2} \\alpha_{2} \\cos^{2}{\\left (2 \\phi \\right )} + A_{2} \\alpha_{1} \\cos{\\left (2 \\phi \\right )} - 4 A_{2} \\omega^{2} \\cos{\\left (2 \\phi \\right )}$$"
      ],
      "text/plain": [
       "  3          2                    2                    2             2       2\n",
       "A₀ ⋅α₃ + 3⋅A₀ ⋅A₁⋅α₃⋅cos(φ) + 3⋅A₀ ⋅A₂⋅α₃⋅cos(2⋅φ) + A₀ ⋅α₂ + 3⋅A₀⋅A₁ ⋅α₃⋅cos \n",
       "\n",
       "                                                                 2       2    \n",
       "(φ) + 6⋅A₀⋅A₁⋅A₂⋅α₃⋅cos(φ)⋅cos(2⋅φ) + 2⋅A₀⋅A₁⋅α₂⋅cos(φ) + 3⋅A₀⋅A₂ ⋅α₃⋅cos (2⋅φ\n",
       "\n",
       "                                    3       3          2          2           \n",
       ") + 2⋅A₀⋅A₂⋅α₂⋅cos(2⋅φ) + A₀⋅α₁ + A₁ ⋅α₃⋅cos (φ) + 3⋅A₁ ⋅A₂⋅α₃⋅cos (φ)⋅cos(2⋅φ\n",
       "\n",
       "      2       2             2              2                                  \n",
       ") + A₁ ⋅α₂⋅cos (φ) + 3⋅A₁⋅A₂ ⋅α₃⋅cos(φ)⋅cos (2⋅φ) + 2⋅A₁⋅A₂⋅α₂⋅cos(φ)⋅cos(2⋅φ)\n",
       "\n",
       "                      2            3       3          2       2               \n",
       " + A₁⋅α₁⋅cos(φ) - A₁⋅ω ⋅cos(φ) + A₂ ⋅α₃⋅cos (2⋅φ) + A₂ ⋅α₂⋅cos (2⋅φ) + A₂⋅α₁⋅c\n",
       "\n",
       "                2         \n",
       "os(2⋅φ) - 4⋅A₂⋅ω ⋅cos(2⋅φ)"
      ]
     },
     "execution_count": 9,
     "metadata": {},
     "output_type": "execute_result"
    }
   ],
   "source": [
    "exp3 =-A_1 *omega**2 * cos(phi)-A_2*4*omega**2*cos(2*phi)+(alpha_1*x+alpha_2*x**2+alpha_3*x**3).subs(x,A_0+A_1*cos(phi)+A_2*cos(2*phi)).expand()\n",
    "exp3"
   ]
  },
  {
   "cell_type": "code",
   "execution_count": 10,
   "metadata": {
    "collapsed": false
   },
   "outputs": [
    {
     "data": {
      "image/png": "[encoded data removed]",
      "text/latex": [
       "$$A_{0}^{3} \\alpha_{3} + 3 A_{0}^{2} A_{1} \\alpha_{3} \\cos{\\left (\\phi \\right )} + 3 A_{0}^{2} A_{2} \\alpha_{3} \\cos{\\left (2 \\phi \\right )} + A_{0}^{2} \\alpha_{2} + 1.5 A_{0} A_{1}^{2} \\alpha_{3} \\cos{\\left (2 \\phi \\right )} + 1.5 A_{0} A_{1}^{2} \\alpha_{3} + 3.0 A_{0} A_{1} A_{2} \\alpha_{3} \\cos{\\left (\\phi \\right )} + 3.0 A_{0} A_{1} A_{2} \\alpha_{3} \\cos{\\left (3 \\phi \\right )} + 2 A_{0} A_{1} \\alpha_{2} \\cos{\\left (\\phi \\right )} + 1.5 A_{0} A_{2}^{2} \\alpha_{3} \\cos{\\left (4 \\phi \\right )} + 1.5 A_{0} A_{2}^{2} \\alpha_{3} + 2 A_{0} A_{2} \\alpha_{2} \\cos{\\left (2 \\phi \\right )} + A_{0} \\alpha_{1} + 0.75 A_{1}^{3} \\alpha_{3} \\cos{\\left (\\phi \\right )} + 0.25 A_{1}^{3} \\alpha_{3} \\cos{\\left (3 \\phi \\right )} + 1.5 A_{1}^{2} A_{2} \\alpha_{3} \\cos{\\left (2 \\phi \\right )} + 0.75 A_{1}^{2} A_{2} \\alpha_{3} \\cos{\\left (4 \\phi \\right )} + 0.75 A_{1}^{2} A_{2} \\alpha_{3} + 0.5 A_{1}^{2} \\alpha_{2} \\cos{\\left (2 \\phi \\right )} + 0.5 A_{1}^{2} \\alpha_{2} + 1.5 A_{1} A_{2}^{2} \\alpha_{3} \\cos{\\left (\\phi \\right )} + 0.75 A_{1} A_{2}^{2} \\alpha_{3} \\cos{\\left (3 \\phi \\right )} + 0.75 A_{1} A_{2}^{2} \\alpha_{3} \\cos{\\left (5 \\phi \\right )} + 1.0 A_{1} A_{2} \\alpha_{2} \\cos{\\left (\\phi \\right )} + 1.0 A_{1} A_{2} \\alpha_{2} \\cos{\\left (3 \\phi \\right )} + A_{1} \\alpha_{1} \\cos{\\left (\\phi \\right )} - A_{1} \\omega^{2} \\cos{\\left (\\phi \\right )} + 0.75 A_{2}^{3} \\alpha_{3} \\cos{\\left (2 \\phi \\right )} + 0.25 A_{2}^{3} \\alpha_{3} \\cos{\\left (6 \\phi \\right )} + 0.5 A_{2}^{2} \\alpha_{2} \\cos{\\left (4 \\phi \\right )} + 0.5 A_{2}^{2} \\alpha_{2} + A_{2} \\alpha_{1} \\cos{\\left (2 \\phi \\right )} - 4 A_{2} \\omega^{2} \\cos{\\left (2 \\phi \\right )}$$"
      ],
      "text/plain": [
       "  3          2                    2                    2               2      \n",
       "A₀ ⋅α₃ + 3⋅A₀ ⋅A₁⋅α₃⋅cos(φ) + 3⋅A₀ ⋅A₂⋅α₃⋅cos(2⋅φ) + A₀ ⋅α₂ + 1.5⋅A₀⋅A₁ ⋅α₃⋅co\n",
       "\n",
       "                  2                                                           \n",
       "s(2⋅φ) + 1.5⋅A₀⋅A₁ ⋅α₃ + 3.0⋅A₀⋅A₁⋅A₂⋅α₃⋅cos(φ) + 3.0⋅A₀⋅A₁⋅A₂⋅α₃⋅cos(3⋅φ) + 2\n",
       "\n",
       "                            2                        2                        \n",
       "⋅A₀⋅A₁⋅α₂⋅cos(φ) + 1.5⋅A₀⋅A₂ ⋅α₃⋅cos(4⋅φ) + 1.5⋅A₀⋅A₂ ⋅α₃ + 2⋅A₀⋅A₂⋅α₂⋅cos(2⋅φ\n",
       "\n",
       "                   3                    3                     2               \n",
       ") + A₀⋅α₁ + 0.75⋅A₁ ⋅α₃⋅cos(φ) + 0.25⋅A₁ ⋅α₃⋅cos(3⋅φ) + 1.5⋅A₁ ⋅A₂⋅α₃⋅cos(2⋅φ)\n",
       "\n",
       "          2                         2               2                     2   \n",
       " + 0.75⋅A₁ ⋅A₂⋅α₃⋅cos(4⋅φ) + 0.75⋅A₁ ⋅A₂⋅α₃ + 0.5⋅A₁ ⋅α₂⋅cos(2⋅φ) + 0.5⋅A₁ ⋅α₂\n",
       "\n",
       "            2                       2                         2               \n",
       " + 1.5⋅A₁⋅A₂ ⋅α₃⋅cos(φ) + 0.75⋅A₁⋅A₂ ⋅α₃⋅cos(3⋅φ) + 0.75⋅A₁⋅A₂ ⋅α₃⋅cos(5⋅φ) + \n",
       "\n",
       "                                                                 2            \n",
       "1.0⋅A₁⋅A₂⋅α₂⋅cos(φ) + 1.0⋅A₁⋅A₂⋅α₂⋅cos(3⋅φ) + A₁⋅α₁⋅cos(φ) - A₁⋅ω ⋅cos(φ) + 0.\n",
       "\n",
       "     3                      3                     2                     2     \n",
       "75⋅A₂ ⋅α₃⋅cos(2⋅φ) + 0.25⋅A₂ ⋅α₃⋅cos(6⋅φ) + 0.5⋅A₂ ⋅α₂⋅cos(4⋅φ) + 0.5⋅A₂ ⋅α₂ +\n",
       "\n",
       "                        2         \n",
       " A₂⋅α₁⋅cos(2⋅φ) - 4⋅A₂⋅ω ⋅cos(2⋅φ)"
      ]
     },
     "execution_count": 10,
     "metadata": {},
     "output_type": "execute_result"
    }
   ],
   "source": [
    "sub1 = {cos(2*phi)**3: (1/4*(cos(6*phi)+3*cos(2*phi)))}\n",
    "sub2 = {cos(phi)**3:1/4*(cos(3*phi)+3*cos(phi))}\n",
    "sub3 = {cos(phi)*cos(2*phi)**2:1/4*(cos(5*phi)+cos(3*phi)+2*cos(phi))}\n",
    "sub4 = {cos(phi)**2*cos(2*phi):1/4*cos(4*phi)+1/4+1/2*cos(2*phi)}\n",
    "sub5 = {cos(2*phi)**2:1/2*(cos(4*phi)+1)}\n",
    "sub6 = {cos(phi)*cos(2*phi):2*cos(phi)**3-cos(phi)}\n",
    "sub7 = {cos(phi)**2:1/2*(cos(2*phi)+1)}\n",
    "sub8 = sub2\n",
    "exp4 = exp3.subs(sub1).subs(sub2).subs(sub3).subs(sub4).subs(sub5).subs(sub6).subs(sub8).subs(sub7).expand()\n",
    "exp4"
   ]
  },
  {
   "cell_type": "code",
   "execution_count": 11,
   "metadata": {
    "collapsed": false
   },
   "outputs": [
    {
     "data": {
      "image/png": "[encoded data removed]",
      "text/latex": [
       "$$A_{0}^{3} \\alpha_{3} + A_{0}^{2} \\alpha_{2} + 1.5 A_{0} A_{1}^{2} \\alpha_{3} + 1.5 A_{0} A_{2}^{2} \\alpha_{3} + A_{0} \\alpha_{1} + 0.75 A_{1}^{2} A_{2} \\alpha_{3} + 0.5 A_{1}^{2} \\alpha_{2} + 0.5 A_{2}^{2} \\alpha_{2}$$"
      ],
      "text/plain": [
       "  3        2               2               2                     2            \n",
       "A₀ ⋅α₃ + A₀ ⋅α₂ + 1.5⋅A₀⋅A₁ ⋅α₃ + 1.5⋅A₀⋅A₂ ⋅α₃ + A₀⋅α₁ + 0.75⋅A₁ ⋅A₂⋅α₃ + 0.5\n",
       "\n",
       "   2            2   \n",
       "⋅A₁ ⋅α₂ + 0.5⋅A₂ ⋅α₂"
      ]
     },
     "execution_count": 11,
     "metadata": {},
     "output_type": "execute_result"
    }
   ],
   "source": [
    "exp4.subs({cos(phi):0,cos(2*phi):0,cos(3*phi):0,cos(4*phi):0,cos(5*phi):0,cos(6*phi):0})"
   ]
  },
  {
   "cell_type": "code",
   "execution_count": 12,
   "metadata": {
    "collapsed": false
   },
   "outputs": [
    {
     "data": {
      "image/png": "[encoded data removed]",
      "text/latex": [
       "$$3 A_{0}^{2} \\alpha_{3} + 3.0 A_{0} A_{2} \\alpha_{3} + 2 A_{0} \\alpha_{2} + 0.75 A_{1}^{2} \\alpha_{3} + 1.5 A_{2}^{2} \\alpha_{3} + 1.0 A_{2} \\alpha_{2} + \\alpha_{1} - \\omega^{2}$$"
      ],
      "text/plain": [
       "    2                                      2            2                     \n",
       "3⋅A₀ ⋅α₃ + 3.0⋅A₀⋅A₂⋅α₃ + 2⋅A₀⋅α₂ + 0.75⋅A₁ ⋅α₃ + 1.5⋅A₂ ⋅α₃ + 1.0⋅A₂⋅α₂ + α₁ \n",
       "\n",
       "   2\n",
       "- ω "
      ]
     },
     "execution_count": 12,
     "metadata": {},
     "output_type": "execute_result"
    }
   ],
   "source": [
    "(exp4.coeff(cos(phi))/A_1).simplify()\n",
    "#Anusha "
   ]
  },
  {
   "cell_type": "code",
   "execution_count": 13,
   "metadata": {
    "collapsed": false
   },
   "outputs": [
    {
     "data": {
      "image/png": "[encoded data removed]",
      "text/latex": [
       "$$3 A_{0}^{2} A_{2} \\alpha_{3} + 1.5 A_{0} A_{1}^{2} \\alpha_{3} + 2 A_{0} A_{2} \\alpha_{2} + 1.5 A_{1}^{2} A_{2} \\alpha_{3} + 0.5 A_{1}^{2} \\alpha_{2} + 0.75 A_{2}^{3} \\alpha_{3} + A_{2} \\alpha_{1} - 4 A_{2} \\omega^{2}$$"
      ],
      "text/plain": [
       "    2                  2                         2               2            \n",
       "3⋅A₀ ⋅A₂⋅α₃ + 1.5⋅A₀⋅A₁ ⋅α₃ + 2⋅A₀⋅A₂⋅α₂ + 1.5⋅A₁ ⋅A₂⋅α₃ + 0.5⋅A₁ ⋅α₂ + 0.75⋅A\n",
       "\n",
       " 3                    2\n",
       "₂ ⋅α₃ + A₂⋅α₁ - 4⋅A₂⋅ω "
      ]
     },
     "execution_count": 13,
     "metadata": {},
     "output_type": "execute_result"
    }
   ],
   "source": [
    "exp4.coeff(cos(2*phi))"
   ]
  },
  {
   "cell_type": "markdown",
   "metadata": {},
   "source": [
    "\n",
    "For small values of $A_1$ \n",
    "\n",
    "$$A_0 = -\\frac{1}{2}\\alpha_2\\alpha_1^{-1}A_1^2+O(A_1^4)$$\n",
    "$$A_2 = \\frac{1}{6}\\alpha_2 \\alpha_1^{-1}A_1^2+O(A_1^4)$$\n",
    "$$\\omega^2 = \\alpha_1+\\frac{3}{4}\\alpha_3A_1^2-\\frac{5}{6}\\alpha_2^2\\alpha_1^{-1}A_1^2+O(A_1^4)$$\n",
    "\n",
    "So\n",
    "$$x = A_1\\cos\\phi-\\frac{A_1^2\\alpha_2}{2\\alpha_1}\\left(1-\\frac{1}{3}\\cos 2\\phi \\right)+\\cdots$$\n",
    "and performing a Taylor series expansion yields\n",
    "$$\\omega = \\sqrt{\\alpha_1}\\left(1+\\frac{9\\alpha_3\\alpha_1-10\\alpha_2^2}{24\\alpha_1^2}A_1^2   \\right)$$\n",
    "\n",
    "This matches the results of the method of multiple scales.\n",
    "\n",
    "- Disadvantages\n",
    "    - Hard to determine the order of the approximation necessary a priori. \n",
    "    - The algebra gets very complex\n",
    "- Advantages\n",
    "    - Works for systems with non-smooth nonlinearities... Taylor series expansion not necessary\n",
    "    - Easier to implement numerically\n",
    "    "
   ]
  },
  {
   "cell_type": "markdown",
   "metadata": {
    "collapsed": true
   },
   "source": [
    "## Approximate solutions for the free response with damping\n",
    "\n",
    "Presume we have a model of the form\n",
    "\n",
    "$$\\ddot{u}+\\omega_0^2 u = \\epsilon f(u,\\dot{u})$$\n",
    "\n",
    "where $\\epsilon$ is a small dimensionless parameter and $f(u,\\dot{u})$ is a general nonlinear function. \n",
    "\n",
    "Applying the method of multiple scales we again assume a solution of the form\n",
    "\n",
    "$$u = u_0(T_0,T_1,T_2,\\ldots)+\\epsilon u_1(T_0,T_1,T_2,\\ldots)+\\cdots$$\n",
    "\n",
    "Applying the previous understanding of the method, substituting those terms into the governing equation, and equating terms of like powers:\n",
    "\n",
    "*Order $\\epsilon^0$*\n",
    "$$D_0^2{u}_0+\\omega_0^2 u_0 = 0$$\n",
    "\n",
    "*Order $\\epsilon^1$*\n",
    "$$D_0^2{u}_1+\\omega_0^2 u_1 = -2D_0D_1u_0+f(u_0,D_0u_0)$$\n",
    "\n",
    "*Order $\\epsilon^2$*\n",
    "$$D_0^2{u}_n+\\omega_0^2 u_n = F(u_0,u_1,\\ldots,u_{n-1})\\quad \\text{for}\\quad n\\ge 2$$\n",
    "\n",
    "The solution can be written in the form of exponentials as before as\n",
    "\n",
    "$$u_0 = A(T_0,T_1,T_2,\\ldots)e^{i\\omega_0T_0}+\\bar{A}(T_0,T_1,T_2,\\ldots)e^{-i\\omega_0T_0}$$\n",
    "\n",
    "substituting into the second equation\n",
    "\n",
    "\\begin{split}\n",
    "D_0^2{u}_1+\\omega_0^2 u_1 = &-2i\\omega_0 D_1A e^{i\\omega_0T_0}+2i\\omega D_1\\bar{A} e^{-i\\omega_0T_0}\\\\\n",
    "&+f\\left(A e^{i\\omega_0T_0}+\\bar{A}e^{-i\\omega_0T_0},i\\omega_0A e^{i\\omega_0T_0}-i\\omega_0\\bar{A}e^{-i\\omega_0T_0}\\right)\n",
    "\\end{split}\n",
    "\n",
    "Depending on $D_1 A$ we will have secular terms containing $T_0 e^{i\\omega_0T_0}$ and no convergence. This would be bad, so let's find a way to resolve this a bit differently. \n",
    "\n",
    "Let's expand $f(u_0,D_0u_0)$ as a complex form Fourier series. \n",
    "\n",
    "$$f(u_0,D_0u_0) = \\sum_{n=-\\infty}^{\\infty}f_n(A,\\bar{A})e^{i n \\omega_0 T_0}$$\n",
    "\n",
    "The coefficients are defined as (directly from standard Fourier series analysis)\n",
    "\n",
    "$$f_n(A,\\bar{A}) = \\frac{\\omega_0}{2\\pi}\\int_0^{2\\pi/\\omega_0} f e^{-i n \\omega_0 T_0}dT_0$$\n",
    "\n",
    "To make the excitation terms $-2i\\omega_0 D_1A e^{i\\omega_0T_0}$ and $2i\\omega D_1\\bar{A} e^{-i\\omega_0T_0}$ go away, we need the coefficients to go away for the primary harmonic terms. Thus\n",
    "\n",
    "$$-2i\\omega_0 D_1A+ \\frac{\\omega_0}{2\\pi}\\int_0^{2\\pi/\\omega_0} f e^{-i \\omega_0 T_0}dT_0 = 0$$\n",
    "\n",
    "To solve this, we write the complex function $A(T_1)$ in polar form\n",
    "\n",
    "$$A(T_1) = \\frac{1}{2} a(T_1)e^{i\\beta(T_1)}$$\n",
    "\n",
    "so that\n",
    "\n",
    "$$u_0 =a(T_1)\\cos\\phi,\\quad \\phi = \\omega_0T_0+\\beta(T_1)$$\n",
    "\n",
    "Substituting into our requirement to preclude secular terms\n",
    "\n",
    "$$i(a'+ia\\beta')=\\frac{1}{2\\pi\\omega_0}\\int_0^{2\\pi} f(a(T_1)\\cos\\phi,-\\omega_0a(T_1)\\sin\\phi) e^{-i\\phi}d\\phi$$\n",
    "\n",
    "Separating the real and imaginary parts\n",
    "\n",
    "$$a' = -\\frac{1}{2\\pi\\omega_0}\\int_0^{2\\pi}\\sin\\phi f(a(T_1)\\cos\\phi,-\\omega_0a(T_1)\\sin\\phi)d\\phi$$\n",
    "\n",
    "and\n",
    "$$\\beta' = -\\frac{1}{2\\pi\\omega_0 a}\\int_0^{2\\pi}\\cos\\phi f(a(T_1)\\cos\\phi,-\\omega_0a(T_1)\\sin\\phi)d\\phi$$\n",
    "\n",
    "If we can solve for $a$ and $\\beta$, we can determine the solution \n",
    "\n",
    "$$u = a(T_1)\\cos\\left(\\omega_0T_0+\\beta(T_1)\\right)+O(\\epsilon)$$\n"
   ]
  },
  {
   "cell_type": "markdown",
   "metadata": {},
   "source": [
    "### Linear Damping (viscous damping)\n",
    "\n",
    "$$\\ddot{u}+\\omega_0^2 u = -2\\epsilon \\mu \\dot{u}$$\n",
    "\n",
    "so $f = -2 \\mu \\dot{u}$. Of course, we know the closed form solution. We want to see what happens using an approximate technique, that is more broadly applicable. Given $f$, we can find $a$ and $\\beta$ using\n",
    "\n",
    "$$\\dot{a} = -\\frac{-2\\epsilon\\mu}{2\\pi\\omega_0}\\int_0^{2\\pi}\\sin\\phi (-\\omega_0a\\sin\\phi)d\\phi = -\\epsilon\\mu a$$\n",
    "\n",
    "and \n",
    "\n",
    "$$\\dot{\\beta} = -\\frac{-2\\epsilon\\mu}{2\\pi\\omega_0 a}\\int_0^{2\\pi}\\cos\\phi (-\\omega_0a\\sin\\phi)d\\phi = 0$$\n",
    "\n",
    "Solving these differential equations yields $a = a_0e^{-\\epsilon\\mu t}$ and $\\beta = \\beta_0$.\n",
    "\n",
    "So, the response is given by \n",
    "\n",
    "$$u = a_0e^{-\\epsilon\\mu t}\\cos\\left(\\omega_0t+\\beta_0\\right)+O(\\epsilon)$$\n",
    "\n",
    "To this level of approximation, the response frequency isn't altered by the damping. Note that the closed form solution would give a response frequency of $\\omega_0\\sqrt{1-\\epsilon^2}\\approx \\omega_0(1- 0.5 \\epsilon^{2}) $ when $\\mu = \\omega_0$ which is a second order term while this approximation is only at the zeroeth order. "
   ]
  },
  {
   "cell_type": "markdown",
   "metadata": {},
   "source": [
    "### Quadratic Damping\n",
    "\n",
    "Consider now a form of damping common to flow around bodies:\n",
    "\n",
    "$$\\ddot{u}+\\omega_0^2 u = -\\epsilon  \\dot{u}|\\dot{u}|$$\n",
    "\n",
    "so $f = -\\dot{u}|\\dot{u}|$.  Given $f$, we can find $a$ and $\\beta$ using\n",
    "\n",
    "$$\\dot{a} = -\\frac{\\epsilon a^2\\omega_0}{2\\pi}\\int_0^{2\\pi}\\sin^2\\phi |\\sin\\phi| d\\phi$$\n",
    "\n",
    "and \n",
    "\n",
    "$$\\dot{\\beta} = -\\frac{\\epsilon a\\omega_0}{2\\pi}\\int_0^{2\\pi}\\sin\\phi\\cos\\phi |\\sin\\phi| d\\phi$$\n",
    "\n",
    "The easiest way to handle these integrals with absolute values is to break them into two parts and integrate them twice:\n",
    "\n",
    "$$\\dot{a} = -\\frac{\\epsilon a^2\\omega_0}{2\\pi}\\left(\\int_0^{\\pi}\\sin^3\\phi  d\\phi-\\int_{\\pi}^{2\\pi}\\sin^3\\phi  d\\phi\\right) = -\\frac{4}{3\\pi}\\epsilon a^2\\omega_0$$\n",
    "\n",
    "and\n",
    "$$\\dot{\\beta} = 0$$\n",
    "\n",
    "The second equation solution is again $\\beta = \\beta_0$ and the solution for $a$ is\n",
    "\n",
    "$$\\frac{1}{a}-\\frac{1}{a_0} = \\frac{4\\epsilon \\omega_0}{3\\pi} t$$\n",
    " which gives\n",
    " \n",
    " $$ a = \\frac{a_0}{1+\\frac{4\\epsilon \\omega_0 a_0}{3\\pi}t}$$\n",
    "So, the response is given by \n",
    "\n",
    "$$u = \\frac{a_0}{1+\\frac{4\\epsilon \\omega_0 a_0}{3\\pi}t}\\cos\\left(\\omega_0t+\\beta_0\\right)+O(\\epsilon)$$\n",
    "\n",
    "To this level of approximation, the response frequency also isn't altered by the damping. "
   ]
  },
  {
   "cell_type": "code",
   "execution_count": 14,
   "metadata": {
    "collapsed": false
   },
   "outputs": [
    {
     "data": {
      "image/png": "[encoded data removed]",
      "text/plain": [
       "<matplotlib.figure.Figure at 0x1125ef2b0>"
      ]
     },
     "metadata": {},
     "output_type": "display_data"
    }
   ],
   "source": [
    "%matplotlib inline\n",
    "%run Nonlinear_Dynamics\n",
    "plt.figure(figsize=(10,6))\n",
    "quad_decay_plot(x0 = -5.0, v0 = 5, epsilon = 0.2)"
   ]
  },
  {
   "cell_type": "markdown",
   "metadata": {},
   "source": [
    "### Coulomb Damping (dry friction)\n",
    "\n",
    "Consider now a form of damping common to flow around bodies:\n",
    "\n",
    "$$\\ddot{u}+\\omega_0^2 u = \n",
    "\\begin{cases}\n",
    "-\\epsilon\\mu&\\dot{u}>0\\\\\n",
    "\\epsilon\\mu&\\dot{u}<0\\\\\n",
    "\\end{cases}\n",
    "$$\n",
    "\n",
    "Substituting for $f$ and integrating in two parts like the previous case:\n",
    "\n",
    "$$\\dot{a} = -\\frac{\\epsilon \\mu}{2\\pi\\omega_0}\\left(\\int_0^{\\pi}\\sin\\phi  d\\phi-\\int_{\\pi}^{2\\pi}\\sin\\phi  d\\phi\\right) = -\\frac{2\\epsilon \\mu}{\\pi\\omega_0}$$\n",
    "\n",
    "and\n",
    "$$\\dot{\\beta} = 0$$\n",
    "\n",
    "The solutions are \n",
    "$$a = -\\frac{2\\epsilon \\mu}{\\pi\\omega_0} t+ a_0$$ \n",
    "\n",
    "and \n",
    "\n",
    "$$\\beta = \\beta_0$$\n",
    "\n",
    "So, the response is given by \n",
    "\n",
    "$$u = \\left(-\\frac{2\\epsilon \\mu}{\\pi\\omega_0} t+ a_0\\right)\\cos\\left(\\omega_0t+\\beta_0\\right)+O(\\epsilon)$$\n",
    "\n",
    "To this level of approximation, the response frequency also isn't altered by the damping. "
   ]
  },
  {
   "cell_type": "markdown",
   "metadata": {},
   "source": [
    "**Homework**: Obtain the solution for $f(u,\\dot{u})=\\dot{u}-\\dot{u}^3$ called the Rayleigh Oscillator.\n",
    "You should obtain \n",
    "$$a^2 = \\frac{a_0^2}{\\frac{3}{4}\\omega_0^2a_0^2+(1-\\frac{3}{4}\\omega_0^2a_0^2)e^{-\\epsilon t}}$$\n",
    "and\n",
    "$\\dot{\\beta}=0$"
   ]
  },
  {
   "cell_type": "markdown",
   "metadata": {},
   "source": [
    "## Forced Response\n",
    "\n",
    "Consider now adding an external force and a specific case of a Duffing Oscillator\n",
    "\n",
    "$$\\ddot{u}+\\omega_0^2 u = -2\\epsilon \\mu \\dot{u}-\\epsilon \\alpha u^3+ E(t)$$\n",
    "\n",
    "where $E(t) = K\\cos\\Omega t$"
   ]
  },
  {
   "cell_type": "markdown",
   "metadata": {},
   "source": [
    "### Primary resonance\n",
    "\n",
    "Consider response near the linear natural frequency. Define \n",
    "$$\\Omega = \\omega_0 + \\epsilon \\sigma$$\n",
    "\n",
    "- In order to obtain a uniformly valid approximation to the response we need to order the excitation so that it appears when the damping and nonlinearity appear. \n",
    "- The only way to illustrate this would be to not do this and see what happens... something I haven't done. \n",
    "- Set $K=\\epsilon k$\n",
    "\n",
    "Applying the method of multiple scales we again assume a solution of the form\n",
    "\n",
    "$$u = u_0(T_0,T_1,T_2,\\ldots)+\\epsilon u_1(T_0,T_1,T_2,\\ldots)+\\cdots$$\n",
    "\n",
    "The excitation is\n",
    "\n",
    "$$E(t) = \\epsilon k \\cos(\\omega_0T_0+\\sigma T_1)$$\n",
    "\n",
    "Here you can see that the variation in the response frequency is also cause by the same variable as the response in the driving frequency variation. \n",
    "\n",
    "*Order $\\epsilon^0$*\n",
    "$$D_0^2{u}_0+\\omega_0^2 u_0 = 0$$\n",
    "\n",
    "*Order $\\epsilon^1$*\n",
    "$$D_0^2{u}_1+\\omega_0^2 u_1 = -2D_0D_1u_0+-2\\mu D_0 u_0-\\alpha u_0^3+k\\cos(\\omega_0T_0+\\sigma T_1)$$\n",
    "\n",
    "Because of the ordering, the damping, nonlinearity, and excitation all show up in the same equation. \n",
    "\n",
    "The general solution is a harmonic response\n",
    "$$u_0 = A(T_1)e^{i\\omega_0T_0}+\\bar{A}(T_1)e^{-i\\omega_0T_0}$$\n",
    "\n",
    "where we have covered the reason $A$ is not a function of $T_0$. \n",
    "\n",
    "Substituting into the second equation obtained from MoMS\n",
    "\n",
    "\\begin{split}\n",
    "D_0^2{u}_1+\\omega_0^2 u_1 = \n",
    "&-\\left(2 i \\omega_0(A'+\\mu A)+3\\alpha A^2\\bar{A}\\right)e^{i\\omega_0T_0}\\\\\n",
    "&-\\alpha A^3e^{3i\\omega_0T_0}+\\frac{1}{2}ke^{i(\\omega_0T_0+\\sigma T_1)}+ cc\n",
    "\\end{split}\n",
    "\n",
    "To preclude secular terms we must have $A$ satisfy\n",
    "\n",
    "$$2 i \\omega_0(A'+\\mu A)+3\\alpha A^2\\bar{A}-\\frac{1}{2}ke^{i\\sigma T_1}=0$$\n",
    "\n",
    "To solve this, we put $A$ in polar form\n",
    "\n",
    "$$A = \\frac{1}{2}a e^{i\\beta}$$\n",
    "\n",
    "where $a$ and $\\beta$ are real\n",
    "\n",
    "Writing the real and imaginary parts after substitution yields the equations\n",
    "\n",
    "$$a'=-\\mu a +\\frac{1}{2}\\frac{k}{\\omega_0}\\sin(\\sigma T_1-\\beta)$$\n",
    "\n",
    "$$a\\beta' = \\frac{3}{8}\\frac{\\alpha}{\\omega_0}a^3-\\frac{1}{2}\\frac{k}{\\omega_0}\\cos(\\sigma T_1-\\beta)$$\n",
    "\n",
    "with the presumed form of the solution for $A$ substituted into the presumed solution of the original differential equation, if we solve for $a$ and $\\beta$, \n",
    "\n",
    "$$u = a\\cos(\\omega_0 t + \\beta)+ O(\\epsilon)$$\n",
    "\n",
    "Now, we can transform the equations in $a$ and $\\beta$ to autonomous equations with the substitution\n",
    "\n",
    "$$\\gamma = \\sigma T_1-\\beta$$ \n",
    "\n",
    "yielding\n",
    "\n",
    "$$a'=-\\mu a +\\frac{1}{2}\\frac{k}{\\omega_0}\\sin(\\gamma)$$\n",
    "\n",
    "$$a\\gamma' = \\sigma a -\\frac{3}{8}\\frac{\\alpha}{\\omega_0}a^3+\\frac{1}{2}\\frac{k}{\\omega_0}\\cos(\\gamma)$$\n",
    "\n",
    "Squaring and adding these equations we can eliminate $\\gamma$ and obtain a relationship between the amplitude $a$, excitation frequency detuning $\\sigma$, and the excitation amplitude $k$ \n",
    "\n",
    "$$\\left(\\mu^2+\\left(\\sigma - \\frac{3}{8}\\frac{\\alpha}{\\omega_0}a^2\\right)^2\\right)a^2 = \\frac{k^2}{4\\omega_0^2}$$"
   ]
  },
  {
   "cell_type": "markdown",
   "metadata": {},
   "source": [
    "### Nonresonant hard excitations\n",
    "\n",
    "If we excite the system away from resonance, then the effect of the excitation will be relatively small (we get a small response) unless the excitation is *hard*, which means $K=O(1)$, or a big force. Thus\n",
    "\n",
    "$$E(t) = K\\cos\\Omega T_0$$\n",
    "\n",
    "Presuming the same expansion solution \n",
    "\n",
    "$$u(t;\\epsilon) = u_0(T_1, T_2)+\\epsilon u_1(T_1, T_2)+\\cdots$$\n",
    "\n",
    "Substituting gives\n",
    "$$D_0^2{u}_0+\\omega_0^2 u_0 = E(t) = K\\cos\\Omega T_0$$\n",
    "and\n",
    "$$D_0^2{u}_1+\\omega_0^2 u_1 = -2D_0D_1u_0-2\\mu D_0u_0-\\alpha u_0^3$$\n",
    "\n",
    "We assume a solution of the form \n",
    "\n",
    "$$u_0=A(T_1)e^{i\\omega_0 T_0}+\\frac{1}{2}\\frac{K}{\\omega_0^2-\\Omega^2}e^{i\\Omega T_0}+cc$$\n",
    "\n",
    "Substituting into the second equation gives.\n",
    "\n",
    "\\begin{split}\n",
    "D_0^2{u}_1+\\omega_0^2 u_1 = &-\\left(2i\\omega_0(A'+\\mu A)+6\\alpha A\\Lambda^2+3\\alpha A^2\\bar{A}  \\right)e^{i\\omega_0T_0}\\\\\n",
    "&-\\alpha\\big (A^3e^{3i\\omega_0T_0}+\\Lambda^3e^{3i\\Omega T_0}\\\\\n",
    "&+3A^2\\Lambda e^{i(2\\omega_0+\\Omega)T_0}+3\\bar{A}^2\\Lambda e^{i(\\Omega-2\\omega_0)T_0}\\\\\n",
    "&+3A\\Lambda^2 e^{i(\\omega_0+2\\Omega)T_0}+3A\\Lambda^2e^{i(\\omega_0-2\\Omega)T_0}    \\big )\\\\\n",
    "&-\\Lambda\\left(2i\\mu\\Omega+3\\alpha\\Lambda^2+ 6\\alpha A\\bar{A}\\right)e^{i\\Omega T_0} +cc\n",
    "\\end{split}\n",
    "\n",
    "\n",
    "where $\\Lambda = \\frac{1}{2}\\frac{K}{\\omega_0^2-\\Omega^2}$\n",
    "\n",
    "We have secular terms to be concerned with (proportional to $e^{i\\omega_0T_0}$). Further, note that we will also have responses when $\\Omega\\approx 1/3 \\omega_0$ (*superharmonic resonance*) and $\\Omega\\approx 3 \\omega_0$ (*subharmonic resonance*)\n",
    "\n",
    "For the non-resonant case, secular terms are eliminated if\n",
    "\n",
    "$$2i\\omega_0(A'+\\mu A)+6\\alpha A\\Lambda^2+3\\alpha A^2\\bar{A} =0$$\n",
    "\n",
    "Assuming $A=\\frac{1}{2}e^{i\\beta}$ an substituting yields the two equations\n",
    "\n",
    "$$a'=-\\mu a$$\n",
    "\n",
    "and\n",
    "$$\\omega_0 a b' = 3\\alpha\\left(\\Lambda^2+\\frac{1}{8}a^2\\right)a$$\n",
    "\n",
    "Therefore to a first approximation\n",
    "\n",
    "$$u=a\\cos(\\omega_0 t+\\beta)+\\frac{K}{\\omega_0^2-\\Omega^2}\\cos\\Omega t O(\\epsilon)$$\n",
    "\n"
   ]
  },
  {
   "cell_type": "markdown",
   "metadata": {},
   "source": [
    "### Superharmonic Resonances, $\\Omega = \\omega_0/3$\n",
    "\n",
    "- A *Superharmonic Resonance* is a resonance that occurs above the frequency of the excitation. \n",
    "- Here we drive the system at $~1/3$ the natural frequency, yet the system response included a resonant response near the natural frequency in addition to the driving frequency\n",
    "- Superharmonic: The response includes a frequency above the driving frequency. \n",
    "\n",
    "Let's introduce the frequency substitution $3\\Omega = \\omega_0+\\epsilon \\sigma$\n",
    "\n",
    "There is another term that produces a secular term in $u_1$ (second term, second line of the $u_1$ equation), \n",
    "$$-\\alpha\\Lambda^3 e^{\\pm 3 i \\Omega T_0}$$\n",
    "\n",
    "To eliminate secular terms, let's write $3\\Omega_0 T_0$ in terms of $\\omega_0 T_0$\n",
    "$$3\\Omega_0 T_0=(\\omega_0 +\\epsilon \\sigma)T_0 = \\omega_0 T_0 +\\sigma T_1$$\n",
    "\n",
    "Using this, the secular terms in the $u_1$ equation can be eliminated if\n",
    "$$2 i \\omega_0(A'+\\mu A)+6\\alpha\\Lambda^2A+3\\alpha A^2 \\bar{A}+\\alpha \\Lambda^3 e^{i\\sigma T_1} = 0$$\n",
    "\n",
    "Using polar coordinated to represent $A$ again such that\n",
    "$$A = \\frac{1}{2}a e^{i\\beta}$$\n",
    "where $a$ and $\\beta$ are real, separating real and imaginary parts\n",
    "$$\n",
    "a'=-\\mu a-\\frac{\\alpha \\Lambda^3}{\\omega_0}\\sin(\\sigma T_1-\\beta)\n",
    "$$\n",
    "and\n",
    "\n",
    "$$\n",
    "a\\beta' = \\frac{3\\alpha}{\\omega_0}(\\Omega^2+\\frac{1}{8}a^2)a+\\frac{\\alpha\\Lambda^3}{\\omega_0}\\cos(\\sigma T_1-\\beta)\n",
    "$$\n",
    "\n",
    "We can convert this to an autonomous system by setting \n",
    "$$\\gamma=\\sigma T_1-\\beta$$\n",
    "therefor\n",
    "\n",
    "$$\n",
    "a'=-\\mu a-\\frac{\\alpha \\Lambda^3}{\\omega_0}\\sin(\\gamma)\n",
    "$$\n",
    "and\n",
    "\n",
    "$$\n",
    "a\\beta' = \\left(\\sigma-\\frac{3\\alpha\\Lambda^2}{\\omega_0}\\right)a -\\frac{3\\alpha}{8\\omega_0a^3}-\\frac{\\alpha\\Lambda^3}{\\omega_0}\\cos(\\gamma)\n",
    "$$\n",
    "Therefore, the first approximation of $u$ is\n",
    "\\begin{split}\n",
    "u&=a\\cos(\\omega_0 t+\\beta)+\\frac{K}{\\omega_0^2-\\Omega^2}\\cos\\Omega t O(\\epsilon)\\\\\n",
    "&= a\\cos(3\\Omega t - \\gamma)+K(\\omega_0^2-\\Omega^2)^{-1}\\cos \\Omega t + O(\\epsilon)\n",
    "\\end{split}\n",
    "where $a$ and $\\beta$ are given by the preceding differential equations, and \n",
    " we have used $\\beta=\\sigma T_1-\\gamma$, $\\omega_0 = 3\\Omega +\\epsilon\\sigma$, and $T_1 = \\epsilon t$. \n",
    "\n",
    "Steady state occurs when $a'=0$ and $\\beta'=0$, so\n",
    "$$\\mu a=-\\frac{\\alpha \\Lambda^3}{\\omega_0}\\sin(\\gamma)$$\n",
    "and\n",
    "$$\n",
    "\\left(\\sigma-\\frac{3\\alpha\\Lambda^2}{\\omega_0}\\right)a -\\frac{3\\alpha}{8\\omega_0a^3}=\\frac{\\alpha\\Lambda^3}{\\omega_0}\\cos(\\gamma)\n",
    "$$\n",
    "\n",
    "Squaring and adding these terms allows us to eliminate $\\gamma$ and obtain\n",
    "\n",
    "$$\\left(\n",
    "\\mu^2+\\left(\n",
    "\\sigma-3\\frac{\\alpha\\Lambda^2}{\\omega_0}-\\frac{3\\alpha}{8\\omega_0}a^2\n",
    "\\right)^2\n",
    "\\right)a^2 = \\frac{\\alpha^2\\Lambda^6}{\\omega_0^2}\n",
    "$$\n",
    "\n",
    "Solving for $\\sigma$ yields\n",
    "\n",
    "$$\\sigma = \n",
    "3\\frac{\\alpha\\Lambda^2}{\\omega_0}+\\frac{3\\alpha}{8\\omega}a^2\\pm\\left(\\frac{\\alpha^2\\Lambda^6}{\\omega_0^2a^2}-\\mu^2\\right)^{\\frac{1}{2}}\n",
    "$$\n",
    "\n",
    "- Even with damping, their is a solution for $a$, which means that the homogenous solution has a steady amplitude and does not die away. \n",
    "- The nonlinearity \"adjusts\" the free response frequency to precisely three times the excitation amplitude. \n",
    "\n",
    "The peak amplitude is given by \n",
    "\n",
    "$$a_p = \\frac{\\alpha\\Lambda^3}{\\mu\\omega_0}$$\n",
    "\n",
    "This can be determined by recognizing that at the peak, only one value of $\\sigma$ exists for the given amplitude, this the part of the solution after $\\pm$ must be zero. \n",
    "\n",
    "Contrary to the case of primary resonance, the peak amplitude is a function of $\\alpha$. \n",
    "\n",
    "The detuning value $\\sigma$ at the peak is obtained by substituting $a_p$ for $a$ in the expression for $\\sigma$ giving\n",
    "\n",
    "$$\\sigma_p=\\frac{3\\alpha\\Lambda^2}{\\omega_0}\\left(1+\\frac{\\alpha^2\\Lambda^4}{8\\mu^2\\omega_0^2}  \\right)\n",
    "$$"
   ]
  },
  {
   "cell_type": "markdown",
   "metadata": {
    "collapsed": true
   },
   "source": [
    "### Subharmonic resonances, $\\Omega \\approx 3\\omega_0$\n",
    "\n",
    "Here an excitation above the natural frequency causes a sustained response at, or near, the natural frequency... the homogeneous response does not disappear with time. \n",
    "\n",
    "We will look at responses due to excitation frequencies in the vicinity of \n",
    "\n",
    "$$\\Omega= 3\\omega_0+\\epsilon\\sigma$$\n",
    "\n",
    "Recall\n",
    "\\begin{split}\n",
    "D_0^2{u}_1+\\omega_0^2 u_1 = &-\\left(2i\\omega_0(A'+\\mu A)+6\\alpha A\\Lambda^2+3\\alpha A^2\\bar{A}  \\right)e^{i\\omega_0T_0}\\\\\n",
    "&-\\alpha\\big (A^3e^{3i\\omega_0T_0}+\\Lambda^3e^{3i\\Omega T_0}\\\\\n",
    "&+3A^2\\Lambda e^{i(2\\omega_0+\\Omega)T_0}+3\\bar{A}^2\\Lambda e^{i(\\Omega-2\\omega_0)T_0}\\\\\n",
    "&+3A\\Lambda^2 e^{i(\\omega_0+2\\Omega)T_0}+3A\\Lambda^2e^{i(\\omega_0-2\\Omega)T_0}    \\big )\\\\\n",
    "&-\\Lambda\\left(2i\\mu\\Omega+3\\alpha\\Lambda^2+ 6\\alpha A\\bar{A}\\right)e^{i\\Omega T_0} +cc\n",
    "\\end{split}\n",
    "\n",
    "In addition to the terms proportional to $e^{\\pm\\omega_0T_0}$, the term $e^{\\pm(\\Omega-2\\omega_0)T_0}$ (note that $\\Omega-2\\omega_0 = 3\\omega_0+\\epsilon\\sigma-2\\omega_0 = \\omega_0+\\epsilon\\sigma$ produces a secular term in $u_1$. \n",
    "\n",
    "We can write \n",
    "\n",
    "$$(\\Omega-2\\omega_0)T_0 = \\omega_0T_0+\\epsilon\\sigma T_0 = \\omega_0T_0+\\sigma T_1$$\n",
    "\n",
    "To eliminate secular terms, we require that\n",
    "\n",
    "$$2i\\omega_0(A'+\\mu A)+6\\alpha\\Lambda^2A+3\\alpha A^2\\bar{A}+3\\alpha\\Lambda\\bar{A}^2e^{i\\sigma T_1}=0$$\n",
    "\n",
    "Using the same procedure as before, we write $A$ as\n",
    "\n",
    "$$A = \\frac{1}{2}e^{i\\beta}$$\n",
    "\n",
    "substitute, and write the real and imaginary parts as\n",
    "\n",
    "$$a' =-\\mu a-\\frac{3\\alpha\\Lambda}{4\\omega_0}a^2\\sin(\\sigma T_1-3\\beta)$$\n",
    "and\n",
    "$$a\\beta' = \\frac{3\\alpha}{\\omega_0}(\\Lambda^2+\\frac{1}{8}a^2)a+\\frac{3\\alpha\\Lambda}{4\\omega_0}a^2\\cos(\\sigma T_1-3\\beta)$$\n",
    "\n",
    "To make this an autonomous system, we set \n",
    "\n",
    "$$\\gamma = \\sigma T_1-3\\beta$$\n",
    "\n",
    "and obtain\n",
    "\n",
    "$$a' =-\\mu a-\\frac{3\\alpha\\Lambda}{4\\omega_0}a^2\\sin(\\gamma)$$\n",
    "and\n",
    "$$a\\gamma' = \\left(\\sigma - \\frac{9\\alpha\\Lambda^2}{\\omega_0}\\right)a -\\frac{9\\alpha}{8\\omega_0}a^3-\\frac{9\\alpha\\Lambda}{4\\omega_0}a^2\\cos(\\gamma)$$\n",
    "\n",
    "So, if we use these to solve for $a$ and $\\beta$, we have the solution for $u$ of\n",
    "\n",
    "$$u = a\\cos\\left(\\frac{1}{3}(\\Omega t-\\gamma)\\right)+K(\\omega_0^2-\\Omega^2)^{-1}\\cos\\Omega t+O(\\epsilon)$$\n",
    "\n",
    "Steady state solutions are given when $a'=0$ and $\\gamma'=0$\n",
    "as\n",
    "\n",
    "$$\\mu a=-\\frac{3\\alpha\\Lambda}{4\\omega_0}a^2\\sin(\\gamma)$$\n",
    "and\n",
    "$$ \\left(\\sigma - \\frac{9\\alpha\\Lambda^2}{\\omega_0}\\right)a -\\frac{9\\alpha}{8\\omega_0}a^3=\\frac{9\\alpha\\Lambda}{4\\omega_0}a^2\\cos(\\gamma)$$\n",
    "\n",
    "From these we can elimnate $\\gamma $ to get\n",
    "\n",
    "$$\\left(9\\mu^2+\\left(\\sigma - \\frac{9\\alpha\\Lambda^2}{\\omega_0}-\\frac{9\\alpha}{8\\omega_0}a^2\\right)^2\\right) a^2 = \\frac{81\\alpha^2\\Lambda^2}{16\\omega_0^2}a^4\n",
    "$$\n",
    "\n",
    "This yields that either $a=0$ or\n",
    "$$9\\mu^2+\\left(\\sigma - \\frac{9\\alpha\\Lambda^2}{\\omega_0}-\\frac{9\\alpha}{8\\omega_0}a^2\\right)^2 = \\frac{81\\alpha^2\\Lambda^2}{16\\omega_0^2}a^2\n",
    "$$\n",
    "which is quadratic in $a^2$. We can just apply the quadratic equation. The result is\n",
    "\n",
    "$$a^2 = p\\pm(p^2-q)^{\\frac{1}{2}}$$\n",
    "\n",
    "where \n",
    "$$p = \\frac{8\\omega_0\\sigma}{9\\alpha}-6\\Lambda^2$$\n",
    "and\n",
    "$$q = \\frac{64\\omega_0^2}{81\\alpha^2}\\left(9\\mu^2+\\left(\\sigma-\\frac{9\\alpha\\Lambda^2}{\\omega_0}\\right)^2\\right)\n",
    "$$\n",
    "\n",
    "because $q>0$, non-trivial solutions only exist when $p>0$ and  $p^2\\ge q$.\n",
    "\n",
    "The first condition requires that \n",
    "$$\\frac{4\\omega_0\\sigma}{27\\alpha}>\\Lambda^2$$\n",
    "which requires that $\\sigma$ and $\\alpha$ have the same signs, and\n",
    "the second requires that\n",
    "\n",
    "$$\\frac{\\alpha\\Lambda^2}{\\omega_0}\\left(\\sigma-\\frac{63\\alpha\\Lambda^2}{8\\omega_0}\\right)-2\\mu^2\\ge0$$\n",
    "\n",
    "which requires that\n",
    "\n",
    "$$\\alpha\\sigma\\ge\\frac{2\\mu^2\\omega_0}{\\Lambda^2}+\\frac{63\\alpha^2\\Lambda^2}{8\\omega_0}$$\n",
    "\n",
    "while for a given $\\sigma$, nontrivial solutions only exists if\n",
    "\n",
    "$$\\frac{\\sigma}{\\mu}-\\left(\\frac{\\sigma^2}{\\mu^2}-63\\right)^{\\frac{1}{2}}\\le\\frac{63\\alpha\\Lambda^2}{4\\omega_0\\mu}\\le\\frac{\\sigma}{\\mu}+\\left(\\frac{\\sigma^2}{\\mu^2}-63\\right)^{\\frac{1}{2}}$$\n",
    "\n",
    "- What this means: the response only exists under \"special\" circumstances. \n",
    "- From a practical standpoint: small variations of parameters (uncertainties) can cause a response to \"appear and disappear\" very easily. \n",
    "- When these conditions hold, a higher frequency excitation can cause a substantial  response at a lower frequency. \n",
    "- Lefschetz (1956) reported a case where a propeller excitation caused a subharmonic response in the wings at $1/2$ the excitation frequency which induced a subharmonic response of $1/4$ in the rudder, which violently destroyed the aircraft. \n",
    "- No jump phenomenon exists: initial conditions dictate which solution (trivial or non-trivial) is induced. "
   ]
  },
  {
   "cell_type": "markdown",
   "metadata": {},
   "source": [
    "### Multiple term excitations\n",
    "Consider the case of exciting the system with \n",
    "\n",
    "$$E(t) = K_1\\cos(\\Omega_1t+\\theta_1)+K_2\\cos(\\Omega_2t+\\theta_2)$$\n",
    "\n",
    "with 3 pages of analysis, from Nayfeh and Mook (page 183), the following situations can also cause resonances:\n",
    "\n",
    "\n",
    "condition        |result\n",
    "-----------------|--------------------------\n",
    "$\\omega_0\\approx3\\Omega_n$|superharmonic resonance\n",
    "$\\omega_0\\approx\\frac{1}{3}\\Omega_n$|subharmonic resonance\n",
    "$\\omega_0\\approx \\left|\\pm 2\\Omega_m\\pm\\Omega_n\\right|$|combination resonance\n",
    "$\\omega_0\\approx \\frac{1}{2}( \\Omega_m\\pm\\Omega_n)$|combination resonance\n",
    "\n",
    "where $n$ and $m$ can be either 1 or 2. \n",
    "\n",
    "This can become even more troublesome with a slew of ratios between the excitation frequencies, some being fractions, causing multiple resonances. For instance\n",
    "\n",
    "$$\\Omega_2\\approx \\frac{7}{3}\\Omega_1\\approx\\omega_0$$\n",
    "\n",
    "- There are 7 other conditions listed. \n",
    "- This is only in the existence of cubic nonlinearities!\n",
    "\n",
    "What do do in the face of this complexity?\n",
    "- Be aware that you can create resonant conditions with off-resonant frequencies when nonlinearities exist.\n",
    "- Be aware that when testing structures (vibration testing), \n",
    "  - when testing with a random excitation, you will have coherence drops when an off resonance frequency is causing a resonance.\n",
    "  - when exciting with a sine wave, coherence doesn't really exist as a function, so if you are concerned, be aware that such systems record only at the driving frequency. You must find a way to check the raw signal DFT to see that the output signal is also monoharmonic. We will try to cover this later (chapter 7), but this is a topic in the Vibration Testing class."
   ]
  },
  {
   "cell_type": "markdown",
   "metadata": {},
   "source": [
    "# References\n",
    "\n",
    "[<a id=\"cit-Nayfeh1995\" href=\"#call-Nayfeh1995\">1</a>] Ali Hasan Nayfeh and Dean T Mook, ``_Nonlinear Oscillations_'',  1995.\n",
    "\n"
   ]
  }
 ],
 "metadata": {
  "hide_input": false,
  "kernelspec": {
   "display_name": "Python 3",
   "language": "python",
   "name": "python3"
  },
  "language_info": {
   "codemirror_mode": {
    "name": "ipython",
    "version": 3
   },
   "file_extension": ".py",
   "mimetype": "text/x-python",
   "name": "python",
   "nbconvert_exporter": "python",
   "pygments_lexer": "ipython3",
   "version": "3.4.3"
  },
  "latex_envs": {
   "bibliofile": "biblio.bib",
   "cite_by": "number",
   "current_citInitial": 1,
   "eqLabelWithNumbers": true,
   "eqNumInitial": 0
  }
 },
 "nbformat": 4,
 "nbformat_minor": 0
}
