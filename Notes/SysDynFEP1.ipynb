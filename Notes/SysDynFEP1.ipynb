{
 "cells": [
  {
   "cell_type": "code",
   "execution_count": 2,
   "metadata": {
    "collapsed": false
   },
   "outputs": [],
   "source": [
    "from sympy import *\n",
    "from sympy.matrices import *"
   ]
  },
  {
   "cell_type": "code",
   "execution_count": 3,
   "metadata": {
    "collapsed": false
   },
   "outputs": [],
   "source": [
    "from sympy.abc import theta\n",
    "init_printing()"
   ]
  },
  {
   "cell_type": "code",
   "execution_count": 57,
   "metadata": {
    "collapsed": false
   },
   "outputs": [],
   "source": [
    "V_f, R, L, I, I_1, K_T, theta_1, theta_2, T, I_2 , c, k_t, s= symbols(\"V_f R L I I_1 K_T theta_1 theta_2 T I_2  c k_t s\", real = True)"
   ]
  },
  {
   "cell_type": "code",
   "execution_count": 16,
   "metadata": {
    "collapsed": false
   },
   "outputs": [
    {
     "data": {
      "image/png": "[encoded data removed]",
      "text/latex": [
       "$$- I \\left(L s + R\\right) + V_{f}$$"
      ],
      "text/plain": [
       "-I⋅(L⋅s + R) + V_f"
      ]
     },
     "execution_count": 16,
     "metadata": {},
     "output_type": "execute_result"
    }
   ],
   "source": [
    "eqn1 = V_f-(R+s*L)*I\n",
    "eqn1"
   ]
  },
  {
   "cell_type": "code",
   "execution_count": 69,
   "metadata": {
    "collapsed": false
   },
   "outputs": [
    {
     "data": {
      "image/png": "[encoded data removed]",
      "text/latex": [
       "$$- K_{T} \\theta_{2} - T + \\theta_{1} \\left(I_{1} s^{2} + K_{T}\\right)$$"
      ],
      "text/plain": [
       "                 ⎛    2      ⎞\n",
       "-K_T⋅θ₂ - T + θ₁⋅⎝I₁⋅s  + K_T⎠"
      ]
     },
     "execution_count": 69,
     "metadata": {},
     "output_type": "execute_result"
    }
   ],
   "source": [
    "eqn2 = -T+(I_1 *s**2+K_T)*theta_1-K_T*theta_2\n",
    "eqn2"
   ]
  },
  {
   "cell_type": "code",
   "execution_count": 40,
   "metadata": {
    "collapsed": false
   },
   "outputs": [
    {
     "data": {
      "image/png": "[encoded data removed]",
      "text/latex": [
       "$$- K_{T} \\theta_{1} + \\theta_{2} \\left(I_{2} s^{2} + K_{T} + c s\\right)$$"
      ],
      "text/plain": [
       "             ⎛    2            ⎞\n",
       "-K_T⋅θ₁ + θ₂⋅⎝I₂⋅s  + K_T + c⋅s⎠"
      ]
     },
     "execution_count": 40,
     "metadata": {},
     "output_type": "execute_result"
    }
   ],
   "source": [
    "eqn3 = -K_T*theta_1+(I_2 *s**2+c*s+K_T)*theta_2\n",
    "eqn3"
   ]
  },
  {
   "cell_type": "code",
   "execution_count": 59,
   "metadata": {
    "collapsed": false
   },
   "outputs": [
    {
     "data": {
      "image/png": "[encoded data removed]",
      "text/latex": [
       "$$- I k_{t} + T$$"
      ],
      "text/plain": [
       "-I⋅k_t + T"
      ]
     },
     "execution_count": 59,
     "metadata": {},
     "output_type": "execute_result"
    }
   ],
   "source": [
    "eqn4 = T-I*k_t\n",
    "eqn4"
   ]
  },
  {
   "cell_type": "code",
   "execution_count": 81,
   "metadata": {
    "collapsed": false
   },
   "outputs": [
    {
     "data": {
      "image/png": "[encoded data removed]",
      "text/latex": [
       "$$\\frac{\\theta_{2}}{K_{T}} \\left(I_{2} s^{2} + K_{T} + c s\\right)$$"
      ],
      "text/plain": [
       "   ⎛    2            ⎞\n",
       "θ₂⋅⎝I₂⋅s  + K_T + c⋅s⎠\n",
       "──────────────────────\n",
       "         K_T          "
      ]
     },
     "execution_count": 81,
     "metadata": {},
     "output_type": "execute_result"
    }
   ],
   "source": [
    "solve(eqn3,theta_1)[0]"
   ]
  },
  {
   "cell_type": "code",
   "execution_count": 82,
   "metadata": {
    "collapsed": false
   },
   "outputs": [
    {
     "data": {
      "image/png": "[encoded data removed]",
      "text/latex": [
       "$$\\frac{I_{1} I_{2}}{K_{T}} s^{4} \\theta_{2} + I_{1} s^{2} \\theta_{2} + \\frac{I_{1} c}{K_{T}} s^{3} \\theta_{2} + I_{2} s^{2} \\theta_{2} - T + c s \\theta_{2}$$"
      ],
      "text/plain": [
       "       4                       3                           \n",
       "I₁⋅I₂⋅s ⋅θ₂       2      I₁⋅c⋅s ⋅θ₂       2                \n",
       "─────────── + I₁⋅s ⋅θ₂ + ────────── + I₂⋅s ⋅θ₂ - T + c⋅s⋅θ₂\n",
       "    K_T                     K_T                            "
      ]
     },
     "execution_count": 82,
     "metadata": {},
     "output_type": "execute_result"
    }
   ],
   "source": [
    "eqn2.subs({theta_1:solve(eqn3,theta_1)[0]}).expand()"
   ]
  },
  {
   "cell_type": "code",
   "execution_count": 41,
   "metadata": {
    "collapsed": false
   },
   "outputs": [
    {
     "data": {
      "image/png": "[encoded data removed]",
      "text/latex": [
       "$$- \\frac{I_{1} I_{2} L \\theta_{2}}{K_{T} k_{t}} s^{5} - \\frac{I_{1} I_{2} R \\theta_{2}}{K_{T} k_{t}} s^{4} - \\frac{I_{1} L}{k_{t}} s^{3} \\theta_{2} - \\frac{I_{1} R}{k_{t}} s^{2} \\theta_{2} - \\frac{I_{1} L c \\theta_{2}}{K_{T} k_{t}} s^{4} - \\frac{I_{1} R c \\theta_{2}}{K_{T} k_{t}} s^{3} - \\frac{I_{2} L}{k_{t}} s^{3} \\theta_{2} - \\frac{I_{2} R}{k_{t}} s^{2} \\theta_{2} - \\frac{L c}{k_{t}} s^{2} \\theta_{2} - \\frac{R c}{k_{t}} s \\theta_{2} + V_{f}$$"
      ],
      "text/plain": [
       "           5               4            3            2              4         \n",
       "  I₁⋅I₂⋅L⋅s ⋅θ₂   I₁⋅I₂⋅R⋅s ⋅θ₂   I₁⋅L⋅s ⋅θ₂   I₁⋅R⋅s ⋅θ₂   I₁⋅L⋅c⋅s ⋅θ₂   I₁⋅\n",
       "- ───────────── - ───────────── - ────────── - ────────── - ──────────── - ───\n",
       "     K_T⋅k_t         K_T⋅k_t         k_t          k_t         K_T⋅k_t        K\n",
       "\n",
       "     3            3            2           2                    \n",
       "R⋅c⋅s ⋅θ₂   I₂⋅L⋅s ⋅θ₂   I₂⋅R⋅s ⋅θ₂   L⋅c⋅s ⋅θ₂   R⋅c⋅s⋅θ₂      \n",
       "───────── - ────────── - ────────── - ───────── - ──────── + V_f\n",
       "_T⋅k_t         k_t          k_t          k_t        k_t         "
      ]
     },
     "execution_count": 41,
     "metadata": {},
     "output_type": "execute_result"
    }
   ],
   "source": [
    "final_eqn = eqn1.subs({I:solve(eqn2,I)[0],theta_1:solve(eqn3,theta_1)[0]}).expand()\n",
    "final_eqn"
   ]
  },
  {
   "cell_type": "code",
   "execution_count": 42,
   "metadata": {
    "collapsed": false
   },
   "outputs": [
    {
     "data": {
      "image/png": "[encoded data removed]",
      "text/latex": [
       "$$\\frac{K_{T} k_{t}}{s \\left(I_{1} I_{2} L s^{4} + I_{1} I_{2} R s^{3} + I_{1} K_{T} L s^{2} + I_{1} K_{T} R s + I_{1} L c s^{3} + I_{1} R c s^{2} + I_{2} K_{T} L s^{2} + I_{2} K_{T} R s + K_{T} L c s + K_{T} R c\\right)}$$"
      ],
      "text/plain": [
       "                                                            K_T⋅k_t           \n",
       "──────────────────────────────────────────────────────────────────────────────\n",
       "  ⎛         4            3             2                        3           2 \n",
       "s⋅⎝I₁⋅I₂⋅L⋅s  + I₁⋅I₂⋅R⋅s  + I₁⋅K_T⋅L⋅s  + I₁⋅K_T⋅R⋅s + I₁⋅L⋅c⋅s  + I₁⋅R⋅c⋅s  \n",
       "\n",
       "                                                 \n",
       "─────────────────────────────────────────────────\n",
       "            2                                   ⎞\n",
       "+ I₂⋅K_T⋅L⋅s  + I₂⋅K_T⋅R⋅s + K_T⋅L⋅c⋅s + K_T⋅R⋅c⎠"
      ]
     },
     "execution_count": 42,
     "metadata": {},
     "output_type": "execute_result"
    }
   ],
   "source": [
    "solve(final_eqn,theta_2)[0]/V_f.expand()"
   ]
  },
  {
   "cell_type": "code",
   "execution_count": 43,
   "metadata": {
    "collapsed": false
   },
   "outputs": [
    {
     "data": {
      "image/png": "[encoded data removed]",
      "text/latex": [
       "$$L s + R$$"
      ],
      "text/plain": [
       "L⋅s + R"
      ]
     },
     "execution_count": 43,
     "metadata": {},
     "output_type": "execute_result"
    }
   ],
   "source": [
    "VoverI = solve(eqn1,V_f)[0]/I\n",
    "VoverI"
   ]
  },
  {
   "cell_type": "code",
   "execution_count": 70,
   "metadata": {
    "collapsed": false
   },
   "outputs": [
    {
     "data": {
      "image/png": "[encoded data removed]",
      "text/latex": [
       "$$\\frac{1}{L s + R}$$"
      ],
      "text/plain": [
       "   1   \n",
       "───────\n",
       "L⋅s + R"
      ]
     },
     "execution_count": 70,
     "metadata": {},
     "output_type": "execute_result"
    }
   ],
   "source": [
    "eqn5 = solve(eqn1,I)[0]/V_f\n",
    "eqn5"
   ]
  },
  {
   "cell_type": "code",
   "execution_count": 71,
   "metadata": {
    "collapsed": false
   },
   "outputs": [
    {
     "data": {
      "image/png": "[encoded data removed]",
      "text/latex": [
       "$$k_{t}$$"
      ],
      "text/plain": [
       "k_t"
      ]
     },
     "execution_count": 71,
     "metadata": {},
     "output_type": "execute_result"
    }
   ],
   "source": [
    "eqn6 = solve(eqn4,T)[0]/I\n",
    "eqn6"
   ]
  },
  {
   "cell_type": "code",
   "execution_count": 75,
   "metadata": {
    "collapsed": false
   },
   "outputs": [
    {
     "data": {
      "image/png": "[encoded data removed]",
      "text/latex": [
       "$$\\frac{K_{T} \\theta_{2} + T}{T \\left(I_{1} s^{2} + K_{T}\\right)}$$"
      ],
      "text/plain": [
       "   K_T⋅θ₂ + T  \n",
       "───────────────\n",
       "  ⎛    2      ⎞\n",
       "T⋅⎝I₁⋅s  + K_T⎠"
      ]
     },
     "execution_count": 75,
     "metadata": {},
     "output_type": "execute_result"
    }
   ],
   "source": [
    "eqn7 = solve(eqn2,theta_1)[0]/T\n",
    "eqn7"
   ]
  },
  {
   "cell_type": "code",
   "execution_count": 76,
   "metadata": {
    "collapsed": false
   },
   "outputs": [
    {
     "data": {
      "image/png": "[encoded data removed]",
      "text/latex": [
       "$$\\frac{K_{T}}{I_{2} s^{2} + K_{T} + c s}$$"
      ],
      "text/plain": [
       "       K_T       \n",
       "─────────────────\n",
       "    2            \n",
       "I₂⋅s  + K_T + c⋅s"
      ]
     },
     "execution_count": 76,
     "metadata": {},
     "output_type": "execute_result"
    }
   ],
   "source": [
    "eqn8 = solve(eqn3,theta_2)[0]/theta_1\n",
    "eqn8"
   ]
  },
  {
   "cell_type": "code",
   "execution_count": 61,
   "metadata": {
    "collapsed": false
   },
   "outputs": [
    {
     "data": {
      "image/png": "[encoded data removed]",
      "text/latex": [
       "$$k_{t}$$"
      ],
      "text/plain": [
       "k_t"
      ]
     },
     "execution_count": 61,
     "metadata": {},
     "output_type": "execute_result"
    }
   ],
   "source": [
    "eqn8 = solve(eqn4,T)[0]/I\n",
    "rq"
   ]
  },
  {
   "cell_type": "code",
   "execution_count": 77,
   "metadata": {
    "collapsed": false
   },
   "outputs": [
    {
     "data": {
      "image/png": "[encoded data removed]",
      "text/latex": [
       "$$\\frac{K_{T} k_{t} \\left(K_{T} \\theta_{2} + T\\right)}{T \\left(I_{1} s^{2} + K_{T}\\right) \\left(L s + R\\right) \\left(I_{2} s^{2} + K_{T} + c s\\right)}$$"
      ],
      "text/plain": [
       "             K_T⋅k_t⋅(K_T⋅θ₂ + T)            \n",
       "─────────────────────────────────────────────\n",
       "  ⎛    2      ⎞           ⎛    2            ⎞\n",
       "T⋅⎝I₁⋅s  + K_T⎠⋅(L⋅s + R)⋅⎝I₂⋅s  + K_T + c⋅s⎠"
      ]
     },
     "execution_count": 77,
     "metadata": {},
     "output_type": "execute_result"
    }
   ],
   "source": [
    "eqn5*eqn6*eqn7*eqn8"
   ]
  },
  {
   "cell_type": "code",
   "execution_count": 62,
   "metadata": {
    "collapsed": false,
    "scrolled": true
   },
   "outputs": [
    {
     "data": {
      "image/png": "[encoded data removed]",
      "text/latex": [
       "$$\\frac{K_{T} k_{t} \\left(I k_{t} + K_{T} \\theta_{2}\\right)}{I \\left(I_{1} s^{2} + K_{T}\\right) \\left(L s + R\\right) \\left(I_{2} s^{2} + K_{T} + c s\\right)}$$"
      ],
      "text/plain": [
       "           K_T⋅k_t⋅(I⋅k_t + K_T⋅θ₂)          \n",
       "─────────────────────────────────────────────\n",
       "  ⎛    2      ⎞           ⎛    2            ⎞\n",
       "I⋅⎝I₁⋅s  + K_T⎠⋅(L⋅s + R)⋅⎝I₂⋅s  + K_T + c⋅s⎠"
      ]
     },
     "execution_count": 62,
     "metadata": {},
     "output_type": "execute_result"
    }
   ],
   "source": [
    "solve(eqn1,I)[0]/V_f*solve(eqn4,T)[0]/I*solve(eqn2,theta_1)[0]/I*solve(eqn3,theta_2)[0]/theta_1"
   ]
  },
  {
   "cell_type": "code",
   "execution_count": 9,
   "metadata": {
    "collapsed": false
   },
   "outputs": [
    {
     "data": {
      "image/png": "[encoded data removed]",
      "text/latex": [
       "$$\\left[\\begin{matrix}k x y\\\\x^{2} - y\\end{matrix}\\right]$$"
      ],
      "text/plain": [
       "⎡k⋅x⋅y ⎤\n",
       "⎢      ⎥\n",
       "⎢ 2    ⎥\n",
       "⎣x  - y⎦"
      ]
     },
     "execution_count": 9,
     "metadata": {},
     "output_type": "execute_result"
    }
   ],
   "source": [
    "F = Matrix([[k*x*y],[-y+x**2]])\n",
    "F"
   ]
  },
  {
   "cell_type": "code",
   "execution_count": 10,
   "metadata": {
    "collapsed": false
   },
   "outputs": [
    {
     "data": {
      "image/png": "[encoded data removed]",
      "text/latex": [
       "$$\\left[\\begin{matrix}x\\\\y\\end{matrix}\\right]$$"
      ],
      "text/plain": [
       "⎡x⎤\n",
       "⎢ ⎥\n",
       "⎣y⎦"
      ]
     },
     "execution_count": 10,
     "metadata": {},
     "output_type": "execute_result"
    }
   ],
   "source": [
    "X = Matrix([[x],[y]])\n",
    "X"
   ]
  },
  {
   "cell_type": "code",
   "execution_count": 11,
   "metadata": {
    "collapsed": false
   },
   "outputs": [
    {
     "data": {
      "image/png": "[encoded data removed]",
      "text/latex": [
       "$$\\left[\\begin{matrix}0 & \\delta_{x} k\\\\2 \\delta_{x} & -1\\end{matrix}\\right]$$"
      ],
      "text/plain": [
       "⎡ 0    δₓ⋅k⎤\n",
       "⎢          ⎥\n",
       "⎣2⋅δₓ   -1 ⎦"
      ]
     },
     "execution_count": 11,
     "metadata": {},
     "output_type": "execute_result"
    }
   ],
   "source": [
    "Fm = F.jacobian(X).subs({x:delta_x,y:0})\n",
    "Fm"
   ]
  },
  {
   "cell_type": "code",
   "execution_count": 12,
   "metadata": {
    "collapsed": false
   },
   "outputs": [
    {
     "data": {
      "image/png": "[encoded data removed]",
      "text/latex": [
       "$$\\left \\{ - \\frac{1}{2} \\sqrt{8 \\delta_{x}^{2} k + 1} - \\frac{1}{2} : 1, \\quad \\frac{1}{2} \\sqrt{8 \\delta_{x}^{2} k + 1} - \\frac{1}{2} : 1\\right \\}$$"
      ],
      "text/plain": [
       "⎧     _____________            _____________       ⎫\n",
       "⎪    ╱     2                  ╱     2              ⎪\n",
       "⎨  ╲╱  8⋅δₓ ⋅k + 1    1     ╲╱  8⋅δₓ ⋅k + 1    1   ⎬\n",
       "⎪- ──────────────── - ─: 1, ──────────────── - ─: 1⎪\n",
       "⎩         2           2            2           2   ⎭"
      ]
     },
     "execution_count": 12,
     "metadata": {},
     "output_type": "execute_result"
    }
   ],
   "source": [
    "Fm.eigenvals()"
   ]
  },
  {
   "cell_type": "code",
   "execution_count": 13,
   "metadata": {
    "collapsed": false
   },
   "outputs": [
    {
     "data": {
      "image/png": "[encoded data removed]",
      "text/latex": [
       "$$\\left [ \\left ( - \\frac{1}{2} \\sqrt{8 \\delta_{x}^{2} k + 1} - \\frac{1}{2}, \\quad 1, \\quad \\left [ \\left[\\begin{matrix}- \\frac{\\delta_{x} k}{\\frac{1}{2} \\sqrt{8 \\delta_{x}^{2} k + 1} + \\frac{1}{2}}\\\\1\\end{matrix}\\right]\\right ]\\right ), \\quad \\left ( \\frac{1}{2} \\sqrt{8 \\delta_{x}^{2} k + 1} - \\frac{1}{2}, \\quad 1, \\quad \\left [ \\left[\\begin{matrix}- \\frac{\\delta_{x} k}{- \\frac{1}{2} \\sqrt{8 \\delta_{x}^{2} k + 1} + \\frac{1}{2}}\\\\1\\end{matrix}\\right]\\right ]\\right )\\right ]$$"
      ],
      "text/plain": [
       "⎡⎛     _____________                                 ⎞  ⎛   _____________     \n",
       "⎢⎜    ╱     2                                        ⎟  ⎜  ╱     2            \n",
       "⎢⎜  ╲╱  8⋅δₓ ⋅k + 1    1     ⎡⎡       -δₓ⋅k        ⎤⎤⎟  ⎜╲╱  8⋅δₓ ⋅k + 1    1 \n",
       "⎢⎜- ──────────────── - ─, 1, ⎢⎢────────────────────⎥⎥⎟, ⎜──────────────── - ─,\n",
       "⎢⎜         2           2     ⎢⎢   _____________    ⎥⎥⎟  ⎜       2           2 \n",
       "⎢⎜                           ⎢⎢  ╱     2           ⎥⎥⎟  ⎜                     \n",
       "⎢⎜                           ⎢⎢╲╱  8⋅δₓ ⋅k + 1    1⎥⎥⎟  ⎜                     \n",
       "⎢⎜                           ⎢⎢──────────────── + ─⎥⎥⎟  ⎜                     \n",
       "⎢⎜                           ⎢⎢       2           2⎥⎥⎟  ⎜                     \n",
       "⎢⎜                           ⎢⎢                    ⎥⎥⎟  ⎜                     \n",
       "⎣⎝                           ⎣⎣         1          ⎦⎦⎠  ⎝                     \n",
       "\n",
       "                              ⎞⎤\n",
       "                              ⎟⎥\n",
       "    ⎡⎡        -δₓ⋅k         ⎤⎤⎟⎥\n",
       " 1, ⎢⎢──────────────────────⎥⎥⎟⎥\n",
       "    ⎢⎢     _____________    ⎥⎥⎟⎥\n",
       "    ⎢⎢    ╱     2           ⎥⎥⎟⎥\n",
       "    ⎢⎢  ╲╱  8⋅δₓ ⋅k + 1    1⎥⎥⎟⎥\n",
       "    ⎢⎢- ──────────────── + ─⎥⎥⎟⎥\n",
       "    ⎢⎢         2           2⎥⎥⎟⎥\n",
       "    ⎢⎢                      ⎥⎥⎟⎥\n",
       "    ⎣⎣          1           ⎦⎦⎠⎦"
      ]
     },
     "execution_count": 13,
     "metadata": {},
     "output_type": "execute_result"
    }
   ],
   "source": [
    "vals = Fm.eigenvects()\n",
    "vals"
   ]
  },
  {
   "cell_type": "code",
   "execution_count": 14,
   "metadata": {
    "collapsed": false
   },
   "outputs": [],
   "source": [
    "(val1,n,[vect1]),(val2,n2,[vect2])=vals"
   ]
  },
  {
   "cell_type": "code",
   "execution_count": 15,
   "metadata": {
    "collapsed": false
   },
   "outputs": [
    {
     "data": {
      "image/png": "[encoded data removed]",
      "text/latex": [
       "$$- \\frac{1}{2} \\sqrt{8 \\delta_{x}^{2} k + 1} - \\frac{1}{2}$$"
      ],
      "text/plain": [
       "     _____________    \n",
       "    ╱     2           \n",
       "  ╲╱  8⋅δₓ ⋅k + 1    1\n",
       "- ──────────────── - ─\n",
       "         2           2"
      ]
     },
     "execution_count": 15,
     "metadata": {},
     "output_type": "execute_result"
    }
   ],
   "source": [
    "val1"
   ]
  },
  {
   "cell_type": "code",
   "execution_count": 16,
   "metadata": {
    "collapsed": false
   },
   "outputs": [
    {
     "data": {
      "text/plain": [
       "'- \\\\frac{1}{2} \\\\sqrt{8 \\\\delta_{x}^{2} k + 1} - \\\\frac{1}{2}'"
      ]
     },
     "execution_count": 16,
     "metadata": {},
     "output_type": "execute_result"
    }
   ],
   "source": [
    "latex(val1)"
   ]
  },
  {
   "cell_type": "code",
   "execution_count": 17,
   "metadata": {
    "collapsed": false
   },
   "outputs": [
    {
     "data": {
      "image/png": "[encoded data removed]",
      "text/latex": [
       "$$\\left[\\begin{matrix}- \\frac{\\delta_{x} k}{\\frac{1}{2} \\sqrt{8 \\delta_{x}^{2} k + 1} + \\frac{1}{2}}\\\\1\\end{matrix}\\right]$$"
      ],
      "text/plain": [
       "⎡       -δₓ⋅k        ⎤\n",
       "⎢────────────────────⎥\n",
       "⎢   _____________    ⎥\n",
       "⎢  ╱     2           ⎥\n",
       "⎢╲╱  8⋅δₓ ⋅k + 1    1⎥\n",
       "⎢──────────────── + ─⎥\n",
       "⎢       2           2⎥\n",
       "⎢                    ⎥\n",
       "⎣         1          ⎦"
      ]
     },
     "execution_count": 17,
     "metadata": {},
     "output_type": "execute_result"
    }
   ],
   "source": [
    "vect1"
   ]
  },
  {
   "cell_type": "code",
   "execution_count": 18,
   "metadata": {
    "collapsed": false
   },
   "outputs": [
    {
     "data": {
      "image/png": "[encoded data removed]",
      "text/latex": [
       "$$\\frac{1}{2} \\sqrt{8 \\delta_{x}^{2} k + 1} - \\frac{1}{2}$$"
      ],
      "text/plain": [
       "   _____________    \n",
       "  ╱     2           \n",
       "╲╱  8⋅δₓ ⋅k + 1    1\n",
       "──────────────── - ─\n",
       "       2           2"
      ]
     },
     "execution_count": 18,
     "metadata": {},
     "output_type": "execute_result"
    }
   ],
   "source": [
    "val2"
   ]
  },
  {
   "cell_type": "code",
   "execution_count": 19,
   "metadata": {
    "collapsed": false
   },
   "outputs": [
    {
     "data": {
      "text/plain": [
       "'\\\\frac{1}{2} \\\\sqrt{8 \\\\delta_{x}^{2} k + 1} - \\\\frac{1}{2}'"
      ]
     },
     "execution_count": 19,
     "metadata": {},
     "output_type": "execute_result"
    }
   ],
   "source": [
    "latex(val2)"
   ]
  },
  {
   "cell_type": "code",
   "execution_count": 20,
   "metadata": {
    "collapsed": false
   },
   "outputs": [
    {
     "data": {
      "image/png": "[encoded data removed]",
      "text/latex": [
       "$$\\left[\\begin{matrix}- \\frac{\\delta_{x} k}{- \\frac{1}{2} \\sqrt{8 \\delta_{x}^{2} k + 1} + \\frac{1}{2}}\\\\1\\end{matrix}\\right]$$"
      ],
      "text/plain": [
       "⎡        -δₓ⋅k         ⎤\n",
       "⎢──────────────────────⎥\n",
       "⎢     _____________    ⎥\n",
       "⎢    ╱     2           ⎥\n",
       "⎢  ╲╱  8⋅δₓ ⋅k + 1    1⎥\n",
       "⎢- ──────────────── + ─⎥\n",
       "⎢         2           2⎥\n",
       "⎢                      ⎥\n",
       "⎣          1           ⎦"
      ]
     },
     "execution_count": 20,
     "metadata": {},
     "output_type": "execute_result"
    }
   ],
   "source": [
    "vect2"
   ]
  }
 ],
 "metadata": {
  "hide_input": false,
  "kernelspec": {
   "display_name": "Python 3",
   "language": "python",
   "name": "python3"
  },
  "language_info": {
   "codemirror_mode": {
    "name": "ipython",
    "version": 3
   },
   "file_extension": ".py",
   "mimetype": "text/x-python",
   "name": "python",
   "nbconvert_exporter": "python",
   "pygments_lexer": "ipython3",
   "version": "3.4.3"
  },
  "latex_envs": {
   "bibliofile": "biblio.bib",
   "cite_by": "apalike",
   "current_citInitial": 1,
   "eqLabelWithNumbers": true,
   "eqNumInitial": 0
  }
 },
 "nbformat": 4,
 "nbformat_minor": 0
}
